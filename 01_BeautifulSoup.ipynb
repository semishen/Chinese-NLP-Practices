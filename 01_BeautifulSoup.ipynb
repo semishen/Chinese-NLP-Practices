{
  "nbformat": 4,
  "nbformat_minor": 0,
  "metadata": {
    "colab": {
      "name": "01_BeautifulSoup.ipynb",
      "provenance": [],
      "collapsed_sections": [],
      "authorship_tag": "ABX9TyPkIoa7ti0NuFy4COKMYBRN",
      "include_colab_link": true
    },
    "kernelspec": {
      "name": "python3",
      "display_name": "Python 3"
    }
  },
  "cells": [
    {
      "cell_type": "markdown",
      "metadata": {
        "id": "view-in-github",
        "colab_type": "text"
      },
      "source": [
        "<a href=\"https://colab.research.google.com/github/semishen/Chinese-NLP-Practices/blob/main/01_BeautifulSoup.ipynb\" target=\"_parent\"><img src=\"https://colab.research.google.com/assets/colab-badge.svg\" alt=\"Open In Colab\"/></a>"
      ]
    },
    {
      "cell_type": "code",
      "metadata": {
        "id": "SHB7wy0VG-Vn"
      },
      "source": [
        "import requests\n",
        "from bs4 import BeautifulSoup as bs\n",
        "\n",
        "url = 'https://www.ptt.cc/bbs/creditcard/index.html' # ptt link\n",
        "\n",
        "res = requests.get(url)\n",
        "print(res.text)"
      ],
      "execution_count": null,
      "outputs": []
    },
    {
      "cell_type": "code",
      "metadata": {
        "id": "uAKTVtcxIWeD"
      },
      "source": [
        "soup = bs(res.text, 'lxml')\n",
        "domain = 'https://www.ptt.cc/' \n",
        "\n",
        "results = []\n",
        "for node in soup.select('.r-ent'): \n",
        "  temp_dict = {} # empty dict to store data\n",
        "\n",
        "  if node.select_one('a'): # check if node has <a>\n",
        "    temp_dict['title'] = node.select_one('a').text.strip()\n",
        "    temp_dict['link'] = domain + node.select_one('a').get('href') \n",
        "  \n",
        "  if node.select_one('.author'):# check if node has <class = 'author'>\n",
        "    temp_dict['author'] = node.select_one('.author').text.strip()\n",
        "  \n",
        "  if node.select_one('.date'):# check if node has <class = 'date'>\n",
        "    temp_dict['date'] = node.select_one('.date').text.strip()\n",
        "  \n",
        "  if len(temp_dict) == 4:\n",
        "    results.append(temp_dict)\n",
        "\n",
        "results"
      ],
      "execution_count": null,
      "outputs": []
    },
    {
      "cell_type": "code",
      "metadata": {
        "id": "v3CBby3HNbX9",
        "colab": {
          "base_uri": "https://localhost:8080/",
          "height": 204
        },
        "outputId": "8cc55ddf-7948-44d6-f362-8b61e540a36b"
      },
      "source": [
        "import pandas as pd\n",
        "\n",
        "df = pd.DataFrame(results) # reconstructure data\n",
        "df.to_csv('output.csv')\n",
        "df.head()"
      ],
      "execution_count": null,
      "outputs": [
        {
          "output_type": "execute_result",
          "data": {
            "text/html": [
              "<div>\n",
              "<style scoped>\n",
              "    .dataframe tbody tr th:only-of-type {\n",
              "        vertical-align: middle;\n",
              "    }\n",
              "\n",
              "    .dataframe tbody tr th {\n",
              "        vertical-align: top;\n",
              "    }\n",
              "\n",
              "    .dataframe thead th {\n",
              "        text-align: right;\n",
              "    }\n",
              "</style>\n",
              "<table border=\"1\" class=\"dataframe\">\n",
              "  <thead>\n",
              "    <tr style=\"text-align: right;\">\n",
              "      <th></th>\n",
              "      <th>title</th>\n",
              "      <th>link</th>\n",
              "      <th>author</th>\n",
              "      <th>date</th>\n",
              "    </tr>\n",
              "  </thead>\n",
              "  <tbody>\n",
              "    <tr>\n",
              "      <th>0</th>\n",
              "      <td>[心得] 渣打現金回饋御璽卡 核卡</td>\n",
              "      <td>https://www.ptt.cc//bbs/creditcard/M.159455068...</td>\n",
              "      <td>bugerbite</td>\n",
              "      <td>7/12</td>\n",
              "    </tr>\n",
              "    <tr>\n",
              "      <th>1</th>\n",
              "      <td>[問題] 永豐幣倍卡實際刷卡金額？</td>\n",
              "      <td>https://www.ptt.cc//bbs/creditcard/M.159455360...</td>\n",
              "      <td>sunsky13579</td>\n",
              "      <td>7/12</td>\n",
              "    </tr>\n",
              "    <tr>\n",
              "      <th>2</th>\n",
              "      <td>[心得] 渣打現金回饋御璽卡  核卡</td>\n",
              "      <td>https://www.ptt.cc//bbs/creditcard/M.159456065...</td>\n",
              "      <td>a57081108</td>\n",
              "      <td>7/12</td>\n",
              "    </tr>\n",
              "    <tr>\n",
              "      <th>3</th>\n",
              "      <td>[問題] 停車費回饋排除</td>\n",
              "      <td>https://www.ptt.cc//bbs/creditcard/M.159456071...</td>\n",
              "      <td>du3045</td>\n",
              "      <td>7/12</td>\n",
              "    </tr>\n",
              "    <tr>\n",
              "      <th>4</th>\n",
              "      <td>[新聞] 振興三倍券選臺灣企銀就對</td>\n",
              "      <td>https://www.ptt.cc//bbs/creditcard/M.159456954...</td>\n",
              "      <td>hvariables</td>\n",
              "      <td>7/12</td>\n",
              "    </tr>\n",
              "  </tbody>\n",
              "</table>\n",
              "</div>"
            ],
            "text/plain": [
              "                title  ...  date\n",
              "0   [心得] 渣打現金回饋御璽卡 核卡  ...  7/12\n",
              "1   [問題] 永豐幣倍卡實際刷卡金額？  ...  7/12\n",
              "2  [心得] 渣打現金回饋御璽卡  核卡  ...  7/12\n",
              "3        [問題] 停車費回饋排除  ...  7/12\n",
              "4   [新聞] 振興三倍券選臺灣企銀就對  ...  7/12\n",
              "\n",
              "[5 rows x 4 columns]"
            ]
          },
          "metadata": {
            "tags": []
          },
          "execution_count": 15
        }
      ]
    }
  ]
}