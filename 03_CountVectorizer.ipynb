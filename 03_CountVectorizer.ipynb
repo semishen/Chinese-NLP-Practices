{
  "nbformat": 4,
  "nbformat_minor": 0,
  "metadata": {
    "colab": {
      "name": "03_CountVectorizer.ipynb",
      "provenance": [],
      "collapsed_sections": [],
      "authorship_tag": "ABX9TyNRWWbsIiJWTzbQcl1BNoYw",
      "include_colab_link": true
    },
    "kernelspec": {
      "name": "python3",
      "display_name": "Python 3"
    }
  },
  "cells": [
    {
      "cell_type": "markdown",
      "metadata": {
        "id": "view-in-github",
        "colab_type": "text"
      },
      "source": [
        "<a href=\"https://colab.research.google.com/github/semishen/Chinese-NLP-Practices/blob/main/03_CountVectorizer.ipynb\" target=\"_parent\"><img src=\"https://colab.research.google.com/assets/colab-badge.svg\" alt=\"Open In Colab\"/></a>"
      ]
    },
    {
      "cell_type": "markdown",
      "metadata": {
        "id": "FxZGKd3tcWrL"
      },
      "source": [
        "# 作業需求\n",
        "利用以下資料建立詞頻矩陣，並利用詞頻矩陣做量化分析：\n",
        "\n",
        "1. 將信用卡版討論文章 (https://github.com/ywchiu/tibame_tm/blob/master/data/creditcard_titles.csv) 下載存入到自己電腦\n",
        "2. 請讀取該檔案，並將所有標題讀入成titles 的list\n",
        "3. 請使用sklearn 將資料轉換為詞頻矩陣(CountVectorizer)\n",
        "4. 請使用sklearn 將資料轉換為TF-IDF矩陣(TfidfVectorizer)"
      ]
    },
    {
      "cell_type": "code",
      "metadata": {
        "id": "1goWzYRrcOc4",
        "colab": {
          "base_uri": "https://localhost:8080/",
          "height": 215
        },
        "outputId": "7bc11846-119d-4c6f-942c-fb936310225e"
      },
      "source": [
        "# grab on-line doc \n",
        "!wget https://raw.githubusercontent.com/ywchiu/tibame_tm/master/data/creditcard_titles.csv"
      ],
      "execution_count": null,
      "outputs": [
        {
          "output_type": "stream",
          "text": [
            "--2020-07-27 08:56:49--  https://raw.githubusercontent.com/ywchiu/tibame_tm/master/data/creditcard_titles.csv\n",
            "Resolving raw.githubusercontent.com (raw.githubusercontent.com)... 151.101.0.133, 151.101.64.133, 151.101.128.133, ...\n",
            "Connecting to raw.githubusercontent.com (raw.githubusercontent.com)|151.101.0.133|:443... connected.\n",
            "HTTP request sent, awaiting response... 200 OK\n",
            "Length: 3688 (3.6K) [text/plain]\n",
            "Saving to: ‘creditcard_titles.csv’\n",
            "\n",
            "\rcreditcard_titles.c   0%[                    ]       0  --.-KB/s               \rcreditcard_titles.c 100%[===================>]   3.60K  --.-KB/s    in 0s      \n",
            "\n",
            "2020-07-27 08:56:49 (51.8 MB/s) - ‘creditcard_titles.csv’ saved [3688/3688]\n",
            "\n"
          ],
          "name": "stdout"
        }
      ]
    },
    {
      "cell_type": "code",
      "metadata": {
        "id": "OOj13OSFcwih",
        "colab": {
          "base_uri": "https://localhost:8080/",
          "height": 204
        },
        "outputId": "597d8b8e-3750-4e6f-90c1-c0d203cffbd0"
      },
      "source": [
        "# load doc to df\n",
        "import pandas as pd\n",
        "import numpy as np\n",
        "\n",
        "df = pd.read_csv('creditcard_titles.csv', error_bad_lines=False)\n",
        "df.head()"
      ],
      "execution_count": null,
      "outputs": [
        {
          "output_type": "execute_result",
          "data": {
            "text/html": [
              "<div>\n",
              "<style scoped>\n",
              "    .dataframe tbody tr th:only-of-type {\n",
              "        vertical-align: middle;\n",
              "    }\n",
              "\n",
              "    .dataframe tbody tr th {\n",
              "        vertical-align: top;\n",
              "    }\n",
              "\n",
              "    .dataframe thead th {\n",
              "        text-align: right;\n",
              "    }\n",
              "</style>\n",
              "<table border=\"1\" class=\"dataframe\">\n",
              "  <thead>\n",
              "    <tr style=\"text-align: right;\">\n",
              "      <th></th>\n",
              "      <th>Unnamed: 0</th>\n",
              "      <th>title</th>\n",
              "    </tr>\n",
              "  </thead>\n",
              "  <tbody>\n",
              "    <tr>\n",
              "      <th>0</th>\n",
              "      <td>0</td>\n",
              "      <td>[問題] 富邦j卡新戶禮</td>\n",
              "    </tr>\n",
              "    <tr>\n",
              "      <th>1</th>\n",
              "      <td>1</td>\n",
              "      <td>[心得] 玉山 u bear/pi 核卡、台新富邦調額</td>\n",
              "    </tr>\n",
              "    <tr>\n",
              "      <th>2</th>\n",
              "      <td>2</td>\n",
              "      <td>Re: [情報] 中信ANA消費應援哩活動(加碼名額)</td>\n",
              "    </tr>\n",
              "    <tr>\n",
              "      <th>3</th>\n",
              "      <td>3</td>\n",
              "      <td>[問題] 台新@gogo調額</td>\n",
              "    </tr>\n",
              "    <tr>\n",
              "      <th>4</th>\n",
              "      <td>4</td>\n",
              "      <td>[心得] 渣打現金回饋御璽卡 未過</td>\n",
              "    </tr>\n",
              "  </tbody>\n",
              "</table>\n",
              "</div>"
            ],
            "text/plain": [
              "   Unnamed: 0                        title\n",
              "0           0                 [問題] 富邦j卡新戶禮\n",
              "1           1  [心得] 玉山 u bear/pi 核卡、台新富邦調額\n",
              "2           2  Re: [情報] 中信ANA消費應援哩活動(加碼名額)\n",
              "3           3               [問題] 台新@gogo調額\n",
              "4           4            [心得] 渣打現金回饋御璽卡 未過"
            ]
          },
          "metadata": {
            "tags": []
          },
          "execution_count": 13
        }
      ]
    },
    {
      "cell_type": "code",
      "metadata": {
        "id": "ZLVsAuVyfa7B",
        "colab": {
          "base_uri": "https://localhost:8080/",
          "height": 1000
        },
        "outputId": "d1e7e102-fca8-4ca9-eb56-9a8c8eac39ea"
      },
      "source": [
        "# df to list\n",
        "\n",
        "titles = df['title'].to_list()\n",
        "titles"
      ],
      "execution_count": null,
      "outputs": [
        {
          "output_type": "execute_result",
          "data": {
            "text/plain": [
              "['[問題] 富邦j卡新戶禮',\n",
              " '[心得] 玉山 u bear/pi 核卡、台新富邦調額',\n",
              " 'Re: [情報] 中信ANA消費應援哩活動(加碼名額)',\n",
              " '[問題] 台新@gogo調額',\n",
              " '[心得] 渣打現金回饋御璽卡 未過',\n",
              " 'Re: [閒聊] 本月玉山Only最新抽獎回饋',\n",
              " '[情報] 台新也有3倍券 刷50換150 分眾簡訊',\n",
              " '[心得] 富邦J卡 星展炫晶 永豐幣倍 國泰Costco 核卡',\n",
              " 'Re: [情報] 玉山pi分眾屈臣氏促刷活動',\n",
              " '[新聞] 為家人上網預購振興券 刷聯邦卡回饋2％',\n",
              " '[問題] apple pay算實體刷卡後續疑問',\n",
              " '[心得] 神奇的匯豐及渣打新光星展凱基 核卡心得',\n",
              " '[心得] 渣打現金回饋御璽卡 核卡（Money101）',\n",
              " '[心得] 新光 凱基 新戶核卡',\n",
              " '[心得] 渣打現金回饋御璽卡 核卡(money101)',\n",
              " '[心得] 中信 LinePay 商務御璽(城市樂跑) 核卡',\n",
              " '[問題] 有人信用卡不是用掛號寄來的嗎?',\n",
              " '[心得] 渣打現金回饋/富邦J 核卡',\n",
              " 'Re: [閒聊] 新光悠遊晶緻卡新戶/回饋活動懶人包整理',\n",
              " '[問題] 信用卡繳稅後如何付款',\n",
              " '[心得] 富邦j卡未核',\n",
              " '[心得] 富邦悍將聯名卡核卡',\n",
              " '[問題] 申請信用卡的財力證明可以用土地謄本嗎？',\n",
              " '[心得] 渣打現金回饋御璽卡 核卡',\n",
              " '[心得] 元大鑽金Hello Kitty聯名卡',\n",
              " '[心得] 大滿貫之路 匯豐現金 合庫卡娜核卡(18家)',\n",
              " 'Re: [問題] 請問109年燃料費,有信用卡可回饋嗎?',\n",
              " 'Re: [情報] 「卡莉嗨」信用卡回饋查詢app',\n",
              " '[問題] 玉山wallet 線上繳費疑問',\n",
              " '[問題] 聯邦Line Pay Money繳卡費2%',\n",
              " '[新聞] 三倍券15日上路 經濟部推數位券、紙本券 ',\n",
              " '[心得] 玉山Ubear悠遊聯名卡(黃)高雄Youbike2.0',\n",
              " 'Re: [心得] U Bear 不佔額度分期回饋',\n",
              " '[心得] 渣打現金回饋御璽卡 核卡',\n",
              " '[閒聊] 笑死!三倍券綁信用卡最不划算!改換紙本!',\n",
              " 'Re: [閒聊] 笑死!三倍券綁信用卡最不划算!改換紙本!',\n",
              " '[問題] 樂天綁linepay付款ubereat?',\n",
              " '[問題] 嘟嘟房停車信用卡折抵問題',\n",
              " 'Re: [問題] 樂天綁linepay付款ubereat?',\n",
              " '[問題] 影城自動售票有列入U熊回饋？',\n",
              " '[問題] 請問去雷射近視的消費刷卡',\n",
              " '[情報] 玉山Ubear粉紅icash 全新上市',\n",
              " '[心得] 永豐幣倍/渣打現金回饋御璽卡',\n",
              " '[心得] 台新GOGO核卡',\n",
              " '[問題] 請問這是信用卡的外幣消費嗎?',\n",
              " 'Re: [閒聊] 笑死!三倍券綁信用卡最不划算!改換紙本!',\n",
              " '[心得] @GoGo icash御璽卡 領現金袋小白 核卡',\n",
              " '[問題] 富邦台哥大聯名卡--沒有正常回饋',\n",
              " '[問題] 振新券搭新戶辦信用卡的回饋推薦',\n",
              " '[心得] 渣打現金回饋御璽卡 核卡',\n",
              " '[心得] 研究助理 學貸小白 玉山ＵBear核卡',\n",
              " '[情報] 兆豐e秒Happy悠遊鈦金卡/金融信用卡',\n",
              " '[新聞] 銀行拚振興商機 祭信用卡國旅優惠',\n",
              " '[心得] 新光寰宇現金回饋卡 核卡',\n",
              " '[問題] 幼兒園學費繳納',\n",
              " '[情報]玉山世界/無限卡享指定飯店10%現金回饋 ',\n",
              " '[心得] 渣打現金回饋御璽卡 核卡',\n",
              " '[問題] 2020下半年中油回饋哪張高呢？',\n",
              " '[問題] 頂級卡會有推銷電話嗎？',\n",
              " '[問題] 新光三越聯名卡的使用頻率',\n",
              " '[討論]2020年繳燃料費用聯邦賴點卡',\n",
              " '[心得] 玉山國泰調額，感謝太陽',\n",
              " '[心得] 多家銀行調額心得',\n",
              " 'Re: [問題] 2020下半年中油回饋哪張高呢？',\n",
              " '[心得] 渣打現金回饋御璽卡 核卡',\n",
              " '[心得] 渣打現金回饋卡/富邦J卡/永豐幣倍卡 核卡',\n",
              " '[心得] 台新GoGo卡 已核卡',\n",
              " '[心得] 玉山Pi卡&花旗現金回饋卡申請',\n",
              " '[問題] 關於刷卡金額限制',\n",
              " '[問題] 三倍券刷卡通路',\n",
              " '[心得] 聯邦賴點卡換卡（附三代卡面']"
            ]
          },
          "metadata": {
            "tags": []
          },
          "execution_count": 15
        }
      ]
    },
    {
      "cell_type": "code",
      "metadata": {
        "id": "RBd4_AGDfvFe",
        "colab": {
          "base_uri": "https://localhost:8080/",
          "height": 1000
        },
        "outputId": "97c1dd34-917a-49de-f43c-c04f74abfab4"
      },
      "source": [
        "# word segmentation\n",
        "import jieba\n",
        "word_seg_list = []\n",
        "\n",
        "# name of credit cards (only parts of all)\n",
        "jieba.add_word('富邦j卡')\n",
        "jieba.add_word('富邦J')\n",
        "jieba.add_word('台新GoGo')\n",
        "jieba.add_word('玉山Pi')\n",
        "jieba.add_word('玉山pi')\n",
        "jieba.add_word('玉山ＵBear')\n",
        "jieba.add_word('@GoGo')\n",
        "jieba.add_word('台新GOGO')\n",
        "jieba.add_word('玉山Ubear')\n",
        "jieba.add_word('兆豐e秒Happy')\n",
        "jieba.add_word('卡莉嗨')\n",
        "jieba.add_word('玉山wallet')\n",
        "jieba.add_word('國泰Costco')\n",
        "jieba.add_word('聯邦Line')\n",
        "jieba.add_word('中信ANA')\n",
        "jieba.add_word('玉山Only')\n",
        "\n",
        "for sentence in titles:\n",
        "  word_seg_str = ' '.join(jieba.cut(sentence))\n",
        "  word_seg_list.append(word_seg_str)\n",
        "word_seg_list"
      ],
      "execution_count": null,
      "outputs": [
        {
          "output_type": "execute_result",
          "data": {
            "text/plain": [
              "['[ 問題 ]   富邦j卡 新戶禮',\n",
              " '[ 心得 ]   玉山   u   bear / pi   核卡 、 台 新富 邦 調額',\n",
              " 'Re :   [ 情報 ]   中信ANA 消費 應援哩 活動 ( 加碼 名額 )',\n",
              " '[ 問題 ]   台新 @ gogo 調額',\n",
              " '[ 心得 ]   渣打 現金 回饋 御璽 卡   未過',\n",
              " 'Re :   [ 閒聊 ]   本月 玉山Only 最新 抽獎 回饋',\n",
              " '[ 情報 ]   台新 也 有 3 倍券   刷 50 換 150   分眾 簡訊',\n",
              " '[ 心得 ]   富邦J卡   星展 炫晶   永豐幣 倍   國泰Costco   核卡',\n",
              " 'Re :   [ 情報 ]   玉山pi 分眾 屈臣氏 促刷 活動',\n",
              " '[ 新聞 ]   為 家人 上網 預購 振興券   刷 聯邦卡 回饋 2 ％',\n",
              " '[ 問題 ]   apple   pay 算實體 刷卡 後 續 疑問',\n",
              " '[ 心得 ]   神奇 的 匯豐及 渣打 新光 星展 凱基   核卡 心得',\n",
              " '[ 心得 ]   渣打 現金 回饋 御璽 卡   核卡 （ Money101 ）',\n",
              " '[ 心得 ]   新光   凱基   新戶 核卡',\n",
              " '[ 心得 ]   渣打 現金 回饋 御璽 卡   核卡 ( money101 )',\n",
              " '[ 心得 ]   中信   LinePay   商務御璽 ( 城市 樂跑 )   核卡',\n",
              " '[ 問題 ]   有人 信用卡 不是 用 掛號 寄來 的 嗎 ?',\n",
              " '[ 心得 ]   渣打 現金 回饋 / 富邦J   核卡',\n",
              " 'Re :   [ 閒聊 ]   新光 悠遊 晶 緻 卡 新 戶 / 回饋 活動 懶人包 整理',\n",
              " '[ 問題 ]   信用卡 繳稅 後 如何 付款',\n",
              " '[ 心得 ]   富邦j卡 未核',\n",
              " '[ 心得 ]   富邦悍 將聯名 卡 核卡',\n",
              " '[ 問題 ]   申請 信用卡 的 財力 證明 可以 用 土地 謄本 嗎 ？',\n",
              " '[ 心得 ]   渣打 現金 回饋 御璽 卡   核卡',\n",
              " '[ 心得 ]   元大 鑽金 Hello   Kitty 聯名 卡',\n",
              " '[ 心得 ]   大滿 貫之路   匯豐 現金   合庫 卡娜 核卡 ( 18 家 )',\n",
              " 'Re :   [ 問題 ]   請問 109 年 燃料 費 , 有 信用卡 可 回饋 嗎 ?',\n",
              " 'Re :   [ 情報 ]   「 卡莉嗨 」 信用卡 回饋 查詢 app',\n",
              " '[ 問題 ]   玉山wallet   線上 繳費 疑問',\n",
              " '[ 問題 ]   聯邦Line   Pay   Money 繳卡費 2%',\n",
              " '[ 新聞 ]   三倍 券 15 日 上路   經濟部 推數 位券 、 紙本券  ',\n",
              " '[ 心得 ]   玉山Ubear 悠遊 聯名 卡 ( 黃 ) 高雄 Youbike2.0',\n",
              " 'Re :   [ 心得 ]   U   Bear   不 佔 額度 分期 回饋',\n",
              " '[ 心得 ]   渣打 現金 回饋 御璽 卡   核卡',\n",
              " '[ 閒聊 ]   笑 死 ! 三倍 券綁 信用卡 最 不划算 ! 改換 紙本 !',\n",
              " 'Re :   [ 閒聊 ]   笑 死 ! 三倍 券綁 信用卡 最 不划算 ! 改換 紙本 !',\n",
              " '[ 問題 ]   樂天 綁 linepay 付款 ubereat ?',\n",
              " '[ 問題 ]   嘟嘟 房停車 信用卡 折抵 問題',\n",
              " 'Re :   [ 問題 ]   樂天 綁 linepay 付款 ubereat ?',\n",
              " '[ 問題 ]   影城 自動 售票 有 列入 U 熊回饋 ？',\n",
              " '[ 問題 ]   請 問去 雷射 近視 的 消費 刷卡',\n",
              " '[ 情報 ]   玉山Ubear 粉紅 icash   全新 上市',\n",
              " '[ 心得 ]   永豐幣 倍 / 渣打 現金 回饋 御璽 卡',\n",
              " '[ 心得 ]   台新GOGO 核卡',\n",
              " '[ 問題 ]   請問 這是 信用卡 的 外幣 消費 嗎 ?',\n",
              " 'Re :   [ 閒聊 ]   笑 死 ! 三倍 券綁 信用卡 最 不划算 ! 改換 紙本 !',\n",
              " '[ 心得 ]   @ GoGo   icash 御璽 卡   領現 金袋 小白   核卡',\n",
              " '[ 問題 ]   富邦 台哥 大聯名 卡 -- 沒有 正常 回饋',\n",
              " '[ 問題 ]   振新券 搭 新戶 辦 信用卡 的 回饋 推薦',\n",
              " '[ 心得 ]   渣打 現金 回饋 御璽 卡   核卡',\n",
              " '[ 心得 ]   研究 助理   學貸 小白   玉山 Ｕ Bear 核卡',\n",
              " '[ 情報 ]   兆豐e秒Happy 悠遊 鈦 金卡 / 金融 信用卡',\n",
              " '[ 新聞 ]   銀行 拚振興 商機   祭 信用卡 國旅 優惠',\n",
              " '[ 心得 ]   新光 寰宇 現金 回饋 卡   核卡',\n",
              " '[ 問題 ]   幼兒 園學費 繳納',\n",
              " '[ 情報 ] 玉山 世界 / 無限卡享 指定 飯店 10% 現金 回饋  ',\n",
              " '[ 心得 ]   渣打 現金 回饋 御璽 卡   核卡',\n",
              " '[ 問題 ]   2020 下半年 中油 回饋 哪 張高 呢 ？',\n",
              " '[ 問題 ]   頂級 卡會 有 推銷 電話 嗎 ？',\n",
              " '[ 問題 ]   新光 三越 聯名 卡 的 使用 頻率',\n",
              " '[ 討論 ] 2020 年繳 燃料 費用 聯邦 賴點 卡',\n",
              " '[ 心得 ]   玉山 國泰 調額 ， 感謝 太陽',\n",
              " '[ 心得 ]   多家 銀行 調額 心得',\n",
              " 'Re :   [ 問題 ]   2020 下半年 中油 回饋 哪 張高 呢 ？',\n",
              " '[ 心得 ]   渣打 現金 回饋 御璽 卡   核卡',\n",
              " '[ 心得 ]   渣打 現金 回饋 卡 / 富邦J卡 / 永豐幣 倍 卡   核卡',\n",
              " '[ 心得 ]   台新GoGo 卡   已 核卡',\n",
              " '[ 心得 ]   玉山Pi 卡 & 花旗 現金 回饋 卡申 請',\n",
              " '[ 問題 ]   關於 刷卡 金額 限制',\n",
              " '[ 問題 ]   三倍 券 刷卡 通路',\n",
              " '[ 心得 ]   聯邦 賴點 卡換 卡 （ 附 三代 卡面']"
            ]
          },
          "metadata": {
            "tags": []
          },
          "execution_count": 47
        }
      ]
    },
    {
      "cell_type": "code",
      "metadata": {
        "id": "xlKbOsaEiF2R",
        "colab": {
          "base_uri": "https://localhost:8080/",
          "height": 1000
        },
        "outputId": "949cd522-44d7-4b13-8422-2905bb959bed"
      },
      "source": [
        "# CountVectorizer will drop unrelated some unrelated content\n",
        "from sklearn.feature_extraction.text import CountVectorizer\n",
        "vectorizer = CountVectorizer()\n",
        "result = vectorizer.fit_transform(word_seg_list)\n",
        "vectorizer.get_feature_names()"
      ],
      "execution_count": null,
      "outputs": [
        {
          "output_type": "execute_result",
          "data": {
            "text/plain": [
              "['10',\n",
              " '109',\n",
              " '15',\n",
              " '150',\n",
              " '18',\n",
              " '2020',\n",
              " '50',\n",
              " 'app',\n",
              " 'apple',\n",
              " 'bear',\n",
              " 'gogo',\n",
              " 'hello',\n",
              " 'icash',\n",
              " 'kitty',\n",
              " 'linepay',\n",
              " 'money',\n",
              " 'money101',\n",
              " 'pay',\n",
              " 'pi',\n",
              " 're',\n",
              " 'ubereat',\n",
              " 'youbike2',\n",
              " '三代',\n",
              " '三倍',\n",
              " '三越',\n",
              " '上市',\n",
              " '上網',\n",
              " '上路',\n",
              " '下半年',\n",
              " '不划算',\n",
              " '不是',\n",
              " '世界',\n",
              " '中信',\n",
              " '中信ana',\n",
              " '中油',\n",
              " '付款',\n",
              " '位券',\n",
              " '使用',\n",
              " '促刷',\n",
              " '信用卡',\n",
              " '倍券',\n",
              " '優惠',\n",
              " '元大',\n",
              " '兆豐e秒happy',\n",
              " '全新',\n",
              " '凱基',\n",
              " '分期',\n",
              " '分眾',\n",
              " '列入',\n",
              " '刷卡',\n",
              " '券綁',\n",
              " '加碼',\n",
              " '助理',\n",
              " '匯豐',\n",
              " '匯豐及',\n",
              " '卡娜',\n",
              " '卡換',\n",
              " '卡會',\n",
              " '卡申',\n",
              " '卡莉嗨',\n",
              " '卡面',\n",
              " '可以',\n",
              " '台哥',\n",
              " '台新',\n",
              " '台新gogo',\n",
              " '合庫',\n",
              " '名額',\n",
              " '售票',\n",
              " '商務御璽',\n",
              " '商機',\n",
              " '問去',\n",
              " '問題',\n",
              " '嘟嘟',\n",
              " '回饋',\n",
              " '國旅',\n",
              " '國泰',\n",
              " '國泰costco',\n",
              " '園學費',\n",
              " '土地',\n",
              " '城市',\n",
              " '外幣',\n",
              " '多家',\n",
              " '大滿',\n",
              " '大聯名',\n",
              " '太陽',\n",
              " '如何',\n",
              " '學貸',\n",
              " '家人',\n",
              " '寄來',\n",
              " '富邦',\n",
              " '富邦j',\n",
              " '富邦j卡',\n",
              " '富邦悍',\n",
              " '寰宇',\n",
              " '將聯名',\n",
              " '小白',\n",
              " '屈臣氏',\n",
              " '年繳',\n",
              " '幼兒',\n",
              " '張高',\n",
              " '影城',\n",
              " '御璽',\n",
              " '心得',\n",
              " '悠遊',\n",
              " '情報',\n",
              " '感謝',\n",
              " '應援哩',\n",
              " '懶人包',\n",
              " '房停車',\n",
              " '折抵',\n",
              " '抽獎',\n",
              " '拚振興',\n",
              " '指定',\n",
              " '振新券',\n",
              " '振興券',\n",
              " '掛號',\n",
              " '推數',\n",
              " '推薦',\n",
              " '推銷',\n",
              " '改換',\n",
              " '整理',\n",
              " '新光',\n",
              " '新富',\n",
              " '新戶',\n",
              " '新戶禮',\n",
              " '新聞',\n",
              " '星展',\n",
              " '最新',\n",
              " '有人',\n",
              " '未核',\n",
              " '未過',\n",
              " '本月',\n",
              " '查詢',\n",
              " '核卡',\n",
              " '樂天',\n",
              " '樂跑',\n",
              " '正常',\n",
              " '永豐幣',\n",
              " '沒有',\n",
              " '活動',\n",
              " '消費',\n",
              " '渣打',\n",
              " '炫晶',\n",
              " '無限卡享',\n",
              " '熊回饋',\n",
              " '燃料',\n",
              " '玉山',\n",
              " '玉山only',\n",
              " '玉山pi',\n",
              " '玉山ubear',\n",
              " '玉山wallet',\n",
              " '現金',\n",
              " '申請',\n",
              " '疑問',\n",
              " '研究',\n",
              " '神奇',\n",
              " '算實體',\n",
              " '簡訊',\n",
              " '粉紅',\n",
              " '紙本',\n",
              " '紙本券',\n",
              " '經濟部',\n",
              " '線上',\n",
              " '繳卡費',\n",
              " '繳稅',\n",
              " '繳納',\n",
              " '繳費',\n",
              " '聯名',\n",
              " '聯邦',\n",
              " '聯邦line',\n",
              " '聯邦卡',\n",
              " '自動',\n",
              " '花旗',\n",
              " '討論',\n",
              " '調額',\n",
              " '請問',\n",
              " '謄本',\n",
              " '證明',\n",
              " '財力',\n",
              " '貫之路',\n",
              " '費用',\n",
              " '賴點',\n",
              " '近視',\n",
              " '這是',\n",
              " '通路',\n",
              " '金卡',\n",
              " '金融',\n",
              " '金袋',\n",
              " '金額',\n",
              " '銀行',\n",
              " '鑽金',\n",
              " '閒聊',\n",
              " '關於',\n",
              " '限制',\n",
              " '雷射',\n",
              " '電話',\n",
              " '頂級',\n",
              " '預購',\n",
              " '領現',\n",
              " '頻率',\n",
              " '額度',\n",
              " '飯店',\n",
              " '高雄']"
            ]
          },
          "metadata": {
            "tags": []
          },
          "execution_count": 48
        }
      ]
    },
    {
      "cell_type": "code",
      "metadata": {
        "id": "rQcSIDmLi9AL",
        "colab": {
          "base_uri": "https://localhost:8080/",
          "height": 125
        },
        "outputId": "d0a07025-64eb-40d5-9a22-832ec51a0a18"
      },
      "source": [
        "# test result\n",
        "sample = result.toarray()[10] # 11th title\n",
        "wordvec_list = vectorizer.get_feature_names()\n",
        "for i, word in enumerate(wordvec_list):\n",
        "  if sample[i] != 0:\n",
        "    print(word)"
      ],
      "execution_count": null,
      "outputs": [
        {
          "output_type": "stream",
          "text": [
            "apple\n",
            "pay\n",
            "刷卡\n",
            "問題\n",
            "疑問\n",
            "算實體\n"
          ],
          "name": "stdout"
        }
      ]
    },
    {
      "cell_type": "code",
      "metadata": {
        "id": "Prty0gQnzXnc"
      },
      "source": [
        "# TfidfVectorizer\n",
        "from sklearn.feature_extraction.text import TfidfVectorizer\n",
        "tf_idf_vectorizer = TfidfVectorizer()\n",
        "tf_idf_result = tf_idf_vectorizer.fit_transform(word_seg_list)"
      ],
      "execution_count": null,
      "outputs": []
    },
    {
      "cell_type": "code",
      "metadata": {
        "id": "uMZcTXDz0P_c",
        "colab": {
          "base_uri": "https://localhost:8080/",
          "height": 1000
        },
        "outputId": "4cfc2717-04b2-4f8f-efb5-fd0a288a0618"
      },
      "source": [
        "# test result\n",
        "tf_idf_wordvec_list = tf_idf_vectorizer.get_feature_names()\n",
        "\n",
        "# keyword in each title\n",
        "for i,wordvec in enumerate(tf_idf_result.toarray()):\n",
        "  word_index = np.argmax(wordvec)\n",
        "  print(f'{tf_idf_wordvec_list[word_index]} | {titles[i]}')\n"
      ],
      "execution_count": null,
      "outputs": [
        {
          "output_type": "stream",
          "text": [
            "新戶禮 | [問題] 富邦j卡新戶禮\n",
            "pi | [心得] 玉山 u bear/pi 核卡、台新富邦調額\n",
            "中信ana | Re: [情報] 中信ANA消費應援哩活動(加碼名額)\n",
            "gogo | [問題] 台新@gogo調額\n",
            "未過 | [心得] 渣打現金回饋御璽卡 未過\n",
            "抽獎 | Re: [閒聊] 本月玉山Only最新抽獎回饋\n",
            "150 | [情報] 台新也有3倍券 刷50換150 分眾簡訊\n",
            "國泰costco | [心得] 富邦J卡 星展炫晶 永豐幣倍 國泰Costco 核卡\n",
            "促刷 | Re: [情報] 玉山pi分眾屈臣氏促刷活動\n",
            "上網 | [新聞] 為家人上網預購振興券 刷聯邦卡回饋2％\n",
            "apple | [問題] apple pay算實體刷卡後續疑問\n",
            "匯豐及 | [心得] 神奇的匯豐及渣打新光星展凱基 核卡心得\n",
            "money101 | [心得] 渣打現金回饋御璽卡 核卡（Money101）\n",
            "凱基 | [心得] 新光 凱基 新戶核卡\n",
            "money101 | [心得] 渣打現金回饋御璽卡 核卡(money101)\n",
            "中信 | [心得] 中信 LinePay 商務御璽(城市樂跑) 核卡\n",
            "不是 | [問題] 有人信用卡不是用掛號寄來的嗎?\n",
            "富邦j | [心得] 渣打現金回饋/富邦J 核卡\n",
            "懶人包 | Re: [閒聊] 新光悠遊晶緻卡新戶/回饋活動懶人包整理\n",
            "如何 | [問題] 信用卡繳稅後如何付款\n",
            "未核 | [心得] 富邦j卡未核\n",
            "富邦悍 | [心得] 富邦悍將聯名卡核卡\n",
            "可以 | [問題] 申請信用卡的財力證明可以用土地謄本嗎？\n",
            "御璽 | [心得] 渣打現金回饋御璽卡 核卡\n",
            "hello | [心得] 元大鑽金Hello Kitty聯名卡\n",
            "18 | [心得] 大滿貫之路 匯豐現金 合庫卡娜核卡(18家)\n",
            "109 | Re: [問題] 請問109年燃料費,有信用卡可回饋嗎?\n",
            "app | Re: [情報] 「卡莉嗨」信用卡回饋查詢app\n",
            "玉山wallet | [問題] 玉山wallet 線上繳費疑問\n",
            "money | [問題] 聯邦Line Pay Money繳卡費2%\n",
            "15 | [新聞] 三倍券15日上路 經濟部推數位券、紙本券 \n",
            "youbike2 | [心得] 玉山Ubear悠遊聯名卡(黃)高雄Youbike2.0\n",
            "分期 | Re: [心得] U Bear 不佔額度分期回饋\n",
            "御璽 | [心得] 渣打現金回饋御璽卡 核卡\n",
            "不划算 | [閒聊] 笑死!三倍券綁信用卡最不划算!改換紙本!\n",
            "不划算 | Re: [閒聊] 笑死!三倍券綁信用卡最不划算!改換紙本!\n",
            "ubereat | [問題] 樂天綁linepay付款ubereat?\n",
            "嘟嘟 | [問題] 嘟嘟房停車信用卡折抵問題\n",
            "ubereat | Re: [問題] 樂天綁linepay付款ubereat?\n",
            "列入 | [問題] 影城自動售票有列入U熊回饋？\n",
            "問去 | [問題] 請問去雷射近視的消費刷卡\n",
            "上市 | [情報] 玉山Ubear粉紅icash 全新上市\n",
            "永豐幣 | [心得] 永豐幣倍/渣打現金回饋御璽卡\n",
            "台新gogo | [心得] 台新GOGO核卡\n",
            "外幣 | [問題] 請問這是信用卡的外幣消費嗎?\n",
            "不划算 | Re: [閒聊] 笑死!三倍券綁信用卡最不划算!改換紙本!\n",
            "金袋 | [心得] @GoGo icash御璽卡 領現金袋小白 核卡\n",
            "台哥 | [問題] 富邦台哥大聯名卡--沒有正常回饋\n",
            "振新券 | [問題] 振新券搭新戶辦信用卡的回饋推薦\n",
            "御璽 | [心得] 渣打現金回饋御璽卡 核卡\n",
            "助理 | [心得] 研究助理 學貸小白 玉山ＵBear核卡\n",
            "兆豐e秒happy | [情報] 兆豐e秒Happy悠遊鈦金卡/金融信用卡\n",
            "優惠 | [新聞] 銀行拚振興商機 祭信用卡國旅優惠\n",
            "寰宇 | [心得] 新光寰宇現金回饋卡 核卡\n",
            "園學費 | [問題] 幼兒園學費繳納\n",
            "10 | [情報]玉山世界/無限卡享指定飯店10%現金回饋 \n",
            "御璽 | [心得] 渣打現金回饋御璽卡 核卡\n",
            "下半年 | [問題] 2020下半年中油回饋哪張高呢？\n",
            "卡會 | [問題] 頂級卡會有推銷電話嗎？\n",
            "三越 | [問題] 新光三越聯名卡的使用頻率\n",
            "年繳 | [討論]2020年繳燃料費用聯邦賴點卡\n",
            "國泰 | [心得] 玉山國泰調額，感謝太陽\n",
            "多家 | [心得] 多家銀行調額心得\n",
            "下半年 | Re: [問題] 2020下半年中油回饋哪張高呢？\n",
            "御璽 | [心得] 渣打現金回饋御璽卡 核卡\n",
            "永豐幣 | [心得] 渣打現金回饋卡/富邦J卡/永豐幣倍卡 核卡\n",
            "台新gogo | [心得] 台新GoGo卡 已核卡\n",
            "卡申 | [心得] 玉山Pi卡&花旗現金回饋卡申請\n",
            "金額 | [問題] 關於刷卡金額限制\n",
            "通路 | [問題] 三倍券刷卡通路\n",
            "三代 | [心得] 聯邦賴點卡換卡（附三代卡面\n"
          ],
          "name": "stdout"
        }
      ]
    },
    {
      "cell_type": "markdown",
      "metadata": {
        "id": "LtJfEe6RzF70"
      },
      "source": [
        "# 詞頻矩陣"
      ]
    },
    {
      "cell_type": "code",
      "metadata": {
        "id": "k4KI90D5zE_S",
        "colab": {
          "base_uri": "https://localhost:8080/",
          "height": 143
        },
        "outputId": "9e5d7d6f-82f4-4d6a-ea18-38d26ffeadec"
      },
      "source": [
        "result.toarray()"
      ],
      "execution_count": null,
      "outputs": [
        {
          "output_type": "execute_result",
          "data": {
            "text/plain": [
              "array([[0, 0, 0, ..., 0, 0, 0],\n",
              "       [0, 0, 0, ..., 0, 0, 0],\n",
              "       [0, 0, 0, ..., 0, 0, 0],\n",
              "       ...,\n",
              "       [0, 0, 0, ..., 0, 0, 0],\n",
              "       [0, 0, 0, ..., 0, 0, 0],\n",
              "       [0, 0, 0, ..., 0, 0, 0]])"
            ]
          },
          "metadata": {
            "tags": []
          },
          "execution_count": 52
        }
      ]
    },
    {
      "cell_type": "code",
      "metadata": {
        "id": "XleRHwjc7ht9",
        "colab": {
          "base_uri": "https://localhost:8080/",
          "height": 197
        },
        "outputId": "6a184ec5-ab14-45f0-b4b2-be13f7147d27"
      },
      "source": [
        "result.toarray()[10]\n"
      ],
      "execution_count": null,
      "outputs": [
        {
          "output_type": "execute_result",
          "data": {
            "text/plain": [
              "array([0, 0, 0, 0, 0, 0, 0, 0, 1, 0, 0, 0, 0, 0, 0, 0, 0, 1, 0, 0, 0, 0,\n",
              "       0, 0, 0, 0, 0, 0, 0, 0, 0, 0, 0, 0, 0, 0, 0, 0, 0, 0, 0, 0, 0, 0,\n",
              "       0, 0, 0, 0, 0, 1, 0, 0, 0, 0, 0, 0, 0, 0, 0, 0, 0, 0, 0, 0, 0, 0,\n",
              "       0, 0, 0, 0, 0, 1, 0, 0, 0, 0, 0, 0, 0, 0, 0, 0, 0, 0, 0, 0, 0, 0,\n",
              "       0, 0, 0, 0, 0, 0, 0, 0, 0, 0, 0, 0, 0, 0, 0, 0, 0, 0, 0, 0, 0, 0,\n",
              "       0, 0, 0, 0, 0, 0, 0, 0, 0, 0, 0, 0, 0, 0, 0, 0, 0, 0, 0, 0, 0, 0,\n",
              "       0, 0, 0, 0, 0, 0, 0, 0, 0, 0, 0, 0, 0, 0, 0, 0, 0, 0, 0, 0, 0, 1,\n",
              "       0, 0, 1, 0, 0, 0, 0, 0, 0, 0, 0, 0, 0, 0, 0, 0, 0, 0, 0, 0, 0, 0,\n",
              "       0, 0, 0, 0, 0, 0, 0, 0, 0, 0, 0, 0, 0, 0, 0, 0, 0, 0, 0, 0, 0, 0,\n",
              "       0, 0, 0, 0, 0])"
            ]
          },
          "metadata": {
            "tags": []
          },
          "execution_count": 54
        }
      ]
    },
    {
      "cell_type": "markdown",
      "metadata": {
        "id": "LW8EO9bu0Ciq"
      },
      "source": [
        "# TF-IDF矩陣"
      ]
    },
    {
      "cell_type": "code",
      "metadata": {
        "id": "atWLtX6_0B42",
        "colab": {
          "base_uri": "https://localhost:8080/",
          "height": 143
        },
        "outputId": "ad85160c-6473-4f55-e41d-23709c3ab4f8"
      },
      "source": [
        "tf_idf_result.toarray()"
      ],
      "execution_count": null,
      "outputs": [
        {
          "output_type": "execute_result",
          "data": {
            "text/plain": [
              "array([[0., 0., 0., ..., 0., 0., 0.],\n",
              "       [0., 0., 0., ..., 0., 0., 0.],\n",
              "       [0., 0., 0., ..., 0., 0., 0.],\n",
              "       ...,\n",
              "       [0., 0., 0., ..., 0., 0., 0.],\n",
              "       [0., 0., 0., ..., 0., 0., 0.],\n",
              "       [0., 0., 0., ..., 0., 0., 0.]])"
            ]
          },
          "metadata": {
            "tags": []
          },
          "execution_count": 53
        }
      ]
    },
    {
      "cell_type": "code",
      "metadata": {
        "id": "SEzrakNk7m1k",
        "colab": {
          "base_uri": "https://localhost:8080/",
          "height": 755
        },
        "outputId": "a1b8e0f9-8b75-4687-ea7c-4aab2d774f4e"
      },
      "source": [
        "tf_idf_result.toarray()[10]\n"
      ],
      "execution_count": null,
      "outputs": [
        {
          "output_type": "execute_result",
          "data": {
            "text/plain": [
              "array([0.        , 0.        , 0.        , 0.        , 0.        ,\n",
              "       0.        , 0.        , 0.        , 0.47122084, 0.        ,\n",
              "       0.        , 0.        , 0.        , 0.        , 0.        ,\n",
              "       0.        , 0.        , 0.42953592, 0.        , 0.        ,\n",
              "       0.        , 0.        , 0.        , 0.        , 0.        ,\n",
              "       0.        , 0.        , 0.        , 0.        , 0.        ,\n",
              "       0.        , 0.        , 0.        , 0.        , 0.        ,\n",
              "       0.        , 0.        , 0.        , 0.        , 0.        ,\n",
              "       0.        , 0.        , 0.        , 0.        , 0.        ,\n",
              "       0.        , 0.        , 0.        , 0.        , 0.37701914,\n",
              "       0.        , 0.        , 0.        , 0.        , 0.        ,\n",
              "       0.        , 0.        , 0.        , 0.        , 0.        ,\n",
              "       0.        , 0.        , 0.        , 0.        , 0.        ,\n",
              "       0.        , 0.        , 0.        , 0.        , 0.        ,\n",
              "       0.        , 0.2115566 , 0.        , 0.        , 0.        ,\n",
              "       0.        , 0.        , 0.        , 0.        , 0.        ,\n",
              "       0.        , 0.        , 0.        , 0.        , 0.        ,\n",
              "       0.        , 0.        , 0.        , 0.        , 0.        ,\n",
              "       0.        , 0.        , 0.        , 0.        , 0.        ,\n",
              "       0.        , 0.        , 0.        , 0.        , 0.        ,\n",
              "       0.        , 0.        , 0.        , 0.        , 0.        ,\n",
              "       0.        , 0.        , 0.        , 0.        , 0.        ,\n",
              "       0.        , 0.        , 0.        , 0.        , 0.        ,\n",
              "       0.        , 0.        , 0.        , 0.        , 0.        ,\n",
              "       0.        , 0.        , 0.        , 0.        , 0.        ,\n",
              "       0.        , 0.        , 0.        , 0.        , 0.        ,\n",
              "       0.        , 0.        , 0.        , 0.        , 0.        ,\n",
              "       0.        , 0.        , 0.        , 0.        , 0.        ,\n",
              "       0.        , 0.        , 0.        , 0.        , 0.        ,\n",
              "       0.        , 0.        , 0.        , 0.        , 0.        ,\n",
              "       0.        , 0.        , 0.        , 0.42953592, 0.        ,\n",
              "       0.        , 0.47122084, 0.        , 0.        , 0.        ,\n",
              "       0.        , 0.        , 0.        , 0.        , 0.        ,\n",
              "       0.        , 0.        , 0.        , 0.        , 0.        ,\n",
              "       0.        , 0.        , 0.        , 0.        , 0.        ,\n",
              "       0.        , 0.        , 0.        , 0.        , 0.        ,\n",
              "       0.        , 0.        , 0.        , 0.        , 0.        ,\n",
              "       0.        , 0.        , 0.        , 0.        , 0.        ,\n",
              "       0.        , 0.        , 0.        , 0.        , 0.        ,\n",
              "       0.        , 0.        , 0.        , 0.        , 0.        ,\n",
              "       0.        , 0.        , 0.        ])"
            ]
          },
          "metadata": {
            "tags": []
          },
          "execution_count": 55
        }
      ]
    }
  ]
}