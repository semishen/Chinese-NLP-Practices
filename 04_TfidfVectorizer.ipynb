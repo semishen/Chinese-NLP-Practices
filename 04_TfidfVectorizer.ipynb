{
  "nbformat": 4,
  "nbformat_minor": 0,
  "metadata": {
    "colab": {
      "name": "04_TfidfVectorizer.ipynb",
      "provenance": [],
      "collapsed_sections": [],
      "authorship_tag": "ABX9TyOieRgweQTjjyro6Qth8F0h",
      "include_colab_link": true
    },
    "kernelspec": {
      "name": "python3",
      "display_name": "Python 3"
    }
  },
  "cells": [
    {
      "cell_type": "markdown",
      "metadata": {
        "id": "view-in-github",
        "colab_type": "text"
      },
      "source": [
        "<a href=\"https://colab.research.google.com/github/semishen/Chinese-NLP-Practices/blob/main/04_TfidfVectorizer.ipynb\" target=\"_parent\"><img src=\"https://colab.research.google.com/assets/colab-badge.svg\" alt=\"Open In Colab\"/></a>"
      ]
    },
    {
      "cell_type": "code",
      "metadata": {
        "id": "mtLCOlZ0anTi",
        "colab": {
          "base_uri": "https://localhost:8080/",
          "height": 222
        },
        "outputId": "8fd8d772-0125-4be1-f67d-552952f6a192"
      },
      "source": [
        "# Load xlsx by Pandas\n",
        "import pandas as pd\n",
        "import numpy as np\n",
        "\n",
        "url= 'https://raw.githubusercontent.com/ywchiu/tibame_tm/master/data/pchome_qa.xlsx'\n",
        "qa = pd.read_excel(url, index_col=0)\n",
        "print('qa_shape', qa.shape)\n",
        "qa.head()"
      ],
      "execution_count": null,
      "outputs": [
        {
          "output_type": "stream",
          "text": [
            "qa_shape (28, 2)\n"
          ],
          "name": "stdout"
        },
        {
          "output_type": "execute_result",
          "data": {
            "text/html": [
              "<div>\n",
              "<style scoped>\n",
              "    .dataframe tbody tr th:only-of-type {\n",
              "        vertical-align: middle;\n",
              "    }\n",
              "\n",
              "    .dataframe tbody tr th {\n",
              "        vertical-align: top;\n",
              "    }\n",
              "\n",
              "    .dataframe thead th {\n",
              "        text-align: right;\n",
              "    }\n",
              "</style>\n",
              "<table border=\"1\" class=\"dataframe\">\n",
              "  <thead>\n",
              "    <tr style=\"text-align: right;\">\n",
              "      <th></th>\n",
              "      <th>question</th>\n",
              "      <th>answer</th>\n",
              "    </tr>\n",
              "  </thead>\n",
              "  <tbody>\n",
              "    <tr>\n",
              "      <th>0</th>\n",
              "      <td>請問付款方式有哪幾種？</td>\n",
              "      <td>目前商店街提供信用卡、提款機轉帳、超商付款等多種付款方式。唯實際的付款方式將依各店家開放的付...</td>\n",
              "    </tr>\n",
              "    <tr>\n",
              "      <th>1</th>\n",
              "      <td>請問線上分期付款的授權和額度如何計算？</td>\n",
              "      <td>銀行授權是以分期價總額授權，同樣的信用額度也是以分期價總額扣取，但是您付款是分期逐月付款，如...</td>\n",
              "    </tr>\n",
              "    <tr>\n",
              "      <th>2</th>\n",
              "      <td>我是選擇分期付款，為什麼銀行簡訊通知總金額？</td>\n",
              "      <td>銀行通知消費總金額是沒錯，因為銀行需要對持卡者做授權額度控管，並且安全完善的通知消費者核對總...</td>\n",
              "    </tr>\n",
              "    <tr>\n",
              "      <th>3</th>\n",
              "      <td>請問使用分期付款可以再改回一次付清嗎？</td>\n",
              "      <td>由於一次付清和分期付款兩者是不同的收單銀行，且受限銀行規定，因此無法做直接的更改，故請在訂購...</td>\n",
              "    </tr>\n",
              "    <tr>\n",
              "      <th>4</th>\n",
              "      <td>我有網路虛擬信用卡，可不可以在PC home商店街消費？</td>\n",
              "      <td>目前PChome商店街為配合銀行安全性機制和訂單快速作業流程，請消費者在輸入卡號的同時輸入卡...</td>\n",
              "    </tr>\n",
              "  </tbody>\n",
              "</table>\n",
              "</div>"
            ],
            "text/plain": [
              "                       question                                             answer\n",
              "0                   請問付款方式有哪幾種？  目前商店街提供信用卡、提款機轉帳、超商付款等多種付款方式。唯實際的付款方式將依各店家開放的付...\n",
              "1           請問線上分期付款的授權和額度如何計算？  銀行授權是以分期價總額授權，同樣的信用額度也是以分期價總額扣取，但是您付款是分期逐月付款，如...\n",
              "2        我是選擇分期付款，為什麼銀行簡訊通知總金額？  銀行通知消費總金額是沒錯，因為銀行需要對持卡者做授權額度控管，並且安全完善的通知消費者核對總...\n",
              "3           請問使用分期付款可以再改回一次付清嗎？  由於一次付清和分期付款兩者是不同的收單銀行，且受限銀行規定，因此無法做直接的更改，故請在訂購...\n",
              "4  我有網路虛擬信用卡，可不可以在PC home商店街消費？  目前PChome商店街為配合銀行安全性機制和訂單快速作業流程，請消費者在輸入卡號的同時輸入卡..."
            ]
          },
          "metadata": {
            "tags": []
          },
          "execution_count": 45
        }
      ]
    },
    {
      "cell_type": "code",
      "metadata": {
        "id": "hTjx8OxjbyOs",
        "colab": {
          "base_uri": "https://localhost:8080/",
          "height": 539
        },
        "outputId": "3ba5c987-8625-4e05-83f4-f5771740e483"
      },
      "source": [
        "# build a corpus\n",
        "import jieba\n",
        "\n",
        "jieba.add_word('請問')\n",
        "jieba.add_word('為什麼')\n",
        "\n",
        "q_list = qa['question'].to_list()\n",
        "\n",
        "corpus = []\n",
        "for q in q_list:\n",
        "  temp = ' '.join(jieba.cut(q))\n",
        "  corpus.append(temp)\n",
        "   \n",
        "print('len corpus: ', len(corpus))\n",
        "corpus"
      ],
      "execution_count": null,
      "outputs": [
        {
          "output_type": "stream",
          "text": [
            "len corpus:  28\n"
          ],
          "name": "stdout"
        },
        {
          "output_type": "execute_result",
          "data": {
            "text/plain": [
              "['請問 付款 方式 有 哪 幾種 ？',\n",
              " '請問 線上 分期付款 的 授權 和 額度 如何 計算 ？',\n",
              " '我 是 選擇 分期付款 ， 為什麼 銀行 簡訊 通知 總金額 ？',\n",
              " '請問 使用 分期付款 可以 再 改回 一次 付清 嗎 ？',\n",
              " '我 有 網路 虛擬 信用卡 ， 可不可以 在 PC   home 商店 街 消費 ？',\n",
              " '為什麼 線上 分期付款 的 金額 比 一次 付清 的 要 多 ？',\n",
              " '信用卡 可 使用 額度 的 是 在 分期 的 額度 內 ， 為什麼 刷卡 不過 ？',\n",
              " '付款 多久 可以 查到 訂 單明細 ？',\n",
              " '我 想 取消 提款 機 付款 的 訂單 ， 改用 信用卡 付款 該 怎麼 做 ？',\n",
              " '選擇 提款 機 付款 後 ， 我 可以 在 銀行 櫃台 匯款 轉帳 嗎 ？',\n",
              " 'ATM 繳款 期限 已過 了 該 怎麼 辦 ？',\n",
              " 'PChome 商店 街 發給 的 轉帳 帳號 無法 轉帳 或是 出現 問題 帳號 ？',\n",
              " '轉帳 之 後 ， 如何 確認 這筆款 項 是 我付 的 ？ 可以 我 訂購 ， 其他人 付款 嗎 ？',\n",
              " '轉帳 繳費 期限 剛好 遇上 假日 有 影響 嗎 ？',\n",
              " '網路 交易 注意 事項',\n",
              " '在 商店 街 交易 ， 需注意 事項 為何 ?',\n",
              " '什麼 是 [ AFTEE 先 取後付 ] 呢 ?',\n",
              " '什麼 時候 會 收到 [ AFTEE 先 取後付 ] 繳費單 呢 ?',\n",
              " '[ AFTEE 先 取後付 ] 該 如何 付款 ?',\n",
              " '[ AFTEE 先 取後付 ] 付款 期限 是 多久 ?',\n",
              " '下 單時 ， 付款 網頁 一片空白 或 有 錯 誤訊息 ， 請問 是否 訂購 成功 ?',\n",
              " '商店 街會員 如何 訂購 ?',\n",
              " '非 商店 街會員 如何 訂購 ?',\n",
              " '如何 查詢 我 的 訂 單資料 呢 ?',\n",
              " '如何 修改 訂單 資料 ?',\n",
              " '商店 街 店家 專屬 電子 報 或 EDM 如何 刪除 ?',\n",
              " '我該 如何 處理 退貨 退款 問題 ?',\n",
              " '有關 網站 空間 服務 停用']"
            ]
          },
          "metadata": {
            "tags": []
          },
          "execution_count": 46
        }
      ]
    },
    {
      "cell_type": "code",
      "metadata": {
        "id": "0rVe95SkcJGa",
        "colab": {
          "base_uri": "https://localhost:8080/",
          "height": 53
        },
        "outputId": "2b20d35d-32c0-47d8-e679-0208c4eb3477"
      },
      "source": [
        "# TF-IDF matrix\n",
        "from sklearn.feature_extraction.text import TfidfVectorizer\n",
        "tf_idf_vectorizer = TfidfVectorizer()\n",
        "tf_idf = tf_idf_vectorizer.fit_transform(corpus)\n",
        "tf_idf"
      ],
      "execution_count": null,
      "outputs": [
        {
          "output_type": "execute_result",
          "data": {
            "text/plain": [
              "<28x101 sparse matrix of type '<class 'numpy.float64'>'\n",
              "\twith 165 stored elements in Compressed Sparse Row format>"
            ]
          },
          "metadata": {
            "tags": []
          },
          "execution_count": 47
        }
      ]
    },
    {
      "cell_type": "code",
      "metadata": {
        "id": "Rwyf3jYJghAu"
      },
      "source": [
        "# cosine similarity\n",
        "from sklearn.metrics.pairwise import cosine_similarity\n",
        "\n",
        "# ChatBot that give an answer through query, answers, vectorizer, word_matrix\n",
        "def print_answer_by_cs(query, answers, vectorizer, word_matrix):\n",
        "  if type(query) == str:\n",
        "    query_vec = vectorizer.transform([' '.join(jieba.cut(query))])\n",
        "    cs = cosine_similarity(query_vec, word_matrix).flatten()\n",
        "    index = cs.argmax()\n",
        "\n",
        "    #print(f'Q: {query}')\n",
        "    print(f'A: {answers[index]} | cosine similarity: {cs[index]}')\n",
        "\n",
        "  else:\n",
        "    print('input is not a str type')\n",
        "\n",
        "# query = '請問要如何查詢我的訂單'\n",
        "# query_vec = tf_idf_vectorizer.transform([' '.join(jieba.cut(q))])\n",
        "# cs = cosine_similarity(query_vec, tf_idf).flatten()\n",
        "# print(cs)"
      ],
      "execution_count": null,
      "outputs": []
    },
    {
      "cell_type": "code",
      "metadata": {
        "id": "KDzWeNPPsZB0"
      },
      "source": [
        "#@title 請輸入問題 { vertical-output: true, display-mode: \"form\" }\n",
        "query = \"\\u8ACB\\u554F\\u8981\\u5982\\u4F55\\u67E5\\u8A62\\u6211\\u7684\\u8A02\\u55AE\" #@param {type:\"string\"}\n"
      ],
      "execution_count": null,
      "outputs": []
    },
    {
      "cell_type": "code",
      "metadata": {
        "id": "aIS7xmjBkh3t",
        "colab": {
          "base_uri": "https://localhost:8080/",
          "height": 53
        },
        "outputId": "2b93df6d-71fc-4c48-f37b-9eb1f70bcb52"
      },
      "source": [
        "a_list = qa['answer'].to_list()\n",
        "print(f'Q: {query}')\n",
        "\n",
        "# answer from ChatBot\n",
        "print_answer_by_cs(query, a_list, tf_idf_vectorizer, tf_idf)\n"
      ],
      "execution_count": null,
      "outputs": [
        {
          "output_type": "stream",
          "text": [
            "Q: 請問要如何查詢我的訂單\n",
            "A: 請至[我的帳戶 > 交易紀錄]查詢您在商店街交易的訂單資料。 | cosine similarity: 0.5290872973963922\n"
          ],
          "name": "stdout"
        }
      ]
    }
  ]
}