{
  "nbformat": 4,
  "nbformat_minor": 0,
  "metadata": {
    "colab": {
      "name": "07_SVM and Grid Search.ipynb",
      "provenance": [],
      "collapsed_sections": [],
      "authorship_tag": "ABX9TyNhRj5wF5AZ4L0rpzOn+duW",
      "include_colab_link": true
    },
    "kernelspec": {
      "name": "python3",
      "display_name": "Python 3"
    }
  },
  "cells": [
    {
      "cell_type": "markdown",
      "metadata": {
        "id": "view-in-github",
        "colab_type": "text"
      },
      "source": [
        "<a href=\"https://colab.research.google.com/github/semishen/Chinese-NLP-Practices/blob/main/07_SVM_and_Grid_Search.ipynb\" target=\"_parent\"><img src=\"https://colab.research.google.com/assets/colab-badge.svg\" alt=\"Open In Colab\"/></a>"
      ]
    },
    {
      "cell_type": "code",
      "metadata": {
        "id": "KxGK6wPlKpiS",
        "colab": {
          "base_uri": "https://localhost:8080/",
          "height": 222
        },
        "outputId": "78f8ad58-b3c5-4bad-f5f8-d94823a1629b"
      },
      "source": [
        "import numpy as np\n",
        "import pandas as pd\n",
        "\n",
        "# load excel\n",
        "url = 'https://raw.githubusercontent.com/ywchiu/tibame_tm/master/data/google_comments.xlsx'\n",
        "google = pd.read_excel(url, index_col=0)\n",
        "print(google.shape)\n",
        "google.head()"
      ],
      "execution_count": null,
      "outputs": [
        {
          "output_type": "stream",
          "text": [
            "(500, 3)\n"
          ],
          "name": "stdout"
        },
        {
          "output_type": "execute_result",
          "data": {
            "text/html": [
              "<div>\n",
              "<style scoped>\n",
              "    .dataframe tbody tr th:only-of-type {\n",
              "        vertical-align: middle;\n",
              "    }\n",
              "\n",
              "    .dataframe tbody tr th {\n",
              "        vertical-align: top;\n",
              "    }\n",
              "\n",
              "    .dataframe thead th {\n",
              "        text-align: right;\n",
              "    }\n",
              "</style>\n",
              "<table border=\"1\" class=\"dataframe\">\n",
              "  <thead>\n",
              "    <tr style=\"text-align: right;\">\n",
              "      <th></th>\n",
              "      <th>username</th>\n",
              "      <th>score</th>\n",
              "      <th>comment</th>\n",
              "    </tr>\n",
              "  </thead>\n",
              "  <tbody>\n",
              "    <tr>\n",
              "      <th>0</th>\n",
              "      <td>倪依芙</td>\n",
              "      <td>5</td>\n",
              "      <td>起初找不到入口，還以為沒座位，但是原來入口在旁邊樓梯～座位區不大，但是料理很好吃～肉圓的醬微...</td>\n",
              "    </tr>\n",
              "    <tr>\n",
              "      <th>1</th>\n",
              "      <td>Mimi龍</td>\n",
              "      <td>4</td>\n",
              "      <td>聞名已久，今天特別來現場試試，目前改成點餐機點餐， ⋯⋯更多聞名已久，今天特別來現場試試，目...</td>\n",
              "    </tr>\n",
              "    <tr>\n",
              "      <th>2</th>\n",
              "      <td>林昌逸</td>\n",
              "      <td>1</td>\n",
              "      <td>非常生氣服務員的態度😠服務很糟糕，麵都還沒吃完，一起身就把麵收走，擺明趕客人😡😡😡</td>\n",
              "    </tr>\n",
              "    <tr>\n",
              "      <th>3</th>\n",
              "      <td>林幸蓁</td>\n",
              "      <td>5</td>\n",
              "      <td>內用與外帶有不同的點餐方式內用須至店內使用機台點菜、輸入桌號並付款外帶好像只需在入口處點餐即...</td>\n",
              "    </tr>\n",
              "    <tr>\n",
              "      <th>4</th>\n",
              "      <td>台灣TAXI市區叫車禮車包車約拍找小鄭</td>\n",
              "      <td>5</td>\n",
              "      <td>乾淨衛生，廁所很大在地下室，有免費飲料可以喝，拉麵愛好吃，麻辣豆腐不錯、肉粽不錯，目前吃過很...</td>\n",
              "    </tr>\n",
              "  </tbody>\n",
              "</table>\n",
              "</div>"
            ],
            "text/plain": [
              "              username  ...                                            comment\n",
              "0                  倪依芙  ...  起初找不到入口，還以為沒座位，但是原來入口在旁邊樓梯～座位區不大，但是料理很好吃～肉圓的醬微...\n",
              "1                Mimi龍  ...  聞名已久，今天特別來現場試試，目前改成點餐機點餐， ⋯⋯更多聞名已久，今天特別來現場試試，目...\n",
              "2                  林昌逸  ...          非常生氣服務員的態度😠服務很糟糕，麵都還沒吃完，一起身就把麵收走，擺明趕客人😡😡😡\n",
              "3                  林幸蓁  ...  內用與外帶有不同的點餐方式內用須至店內使用機台點菜、輸入桌號並付款外帶好像只需在入口處點餐即...\n",
              "4  台灣TAXI市區叫車禮車包車約拍找小鄭  ...  乾淨衛生，廁所很大在地下室，有免費飲料可以喝，拉麵愛好吃，麻辣豆腐不錯、肉粽不錯，目前吃過很...\n",
              "\n",
              "[5 rows x 3 columns]"
            ]
          },
          "metadata": {
            "tags": []
          },
          "execution_count": 1
        }
      ]
    },
    {
      "cell_type": "code",
      "metadata": {
        "id": "NsvYEovYLlu1",
        "colab": {
          "base_uri": "https://localhost:8080/",
          "height": 204
        },
        "outputId": "4aa1d124-705a-4532-ff17-ac1be84072cf"
      },
      "source": [
        "# convert stars (str) to status ('bad','soso','good')\n",
        "def score_to_status(x):\n",
        "  temp = float(x)\n",
        "  assert (temp < 6.0 and temp > 0.0), 'something wrong'\n",
        "  if temp > 3:\n",
        "    temp = 'good'\n",
        "  elif temp > 2:\n",
        "    temp = 'soso'\n",
        "  else:\n",
        "    temp = 'bad'  \n",
        "  return temp\n",
        "\n",
        "google['tag'] = google['score'].map(score_to_status)\n",
        "google.head()"
      ],
      "execution_count": null,
      "outputs": [
        {
          "output_type": "execute_result",
          "data": {
            "text/html": [
              "<div>\n",
              "<style scoped>\n",
              "    .dataframe tbody tr th:only-of-type {\n",
              "        vertical-align: middle;\n",
              "    }\n",
              "\n",
              "    .dataframe tbody tr th {\n",
              "        vertical-align: top;\n",
              "    }\n",
              "\n",
              "    .dataframe thead th {\n",
              "        text-align: right;\n",
              "    }\n",
              "</style>\n",
              "<table border=\"1\" class=\"dataframe\">\n",
              "  <thead>\n",
              "    <tr style=\"text-align: right;\">\n",
              "      <th></th>\n",
              "      <th>username</th>\n",
              "      <th>score</th>\n",
              "      <th>comment</th>\n",
              "      <th>tag</th>\n",
              "    </tr>\n",
              "  </thead>\n",
              "  <tbody>\n",
              "    <tr>\n",
              "      <th>0</th>\n",
              "      <td>倪依芙</td>\n",
              "      <td>5</td>\n",
              "      <td>起初找不到入口，還以為沒座位，但是原來入口在旁邊樓梯～座位區不大，但是料理很好吃～肉圓的醬微...</td>\n",
              "      <td>good</td>\n",
              "    </tr>\n",
              "    <tr>\n",
              "      <th>1</th>\n",
              "      <td>Mimi龍</td>\n",
              "      <td>4</td>\n",
              "      <td>聞名已久，今天特別來現場試試，目前改成點餐機點餐， ⋯⋯更多聞名已久，今天特別來現場試試，目...</td>\n",
              "      <td>good</td>\n",
              "    </tr>\n",
              "    <tr>\n",
              "      <th>2</th>\n",
              "      <td>林昌逸</td>\n",
              "      <td>1</td>\n",
              "      <td>非常生氣服務員的態度😠服務很糟糕，麵都還沒吃完，一起身就把麵收走，擺明趕客人😡😡😡</td>\n",
              "      <td>bad</td>\n",
              "    </tr>\n",
              "    <tr>\n",
              "      <th>3</th>\n",
              "      <td>林幸蓁</td>\n",
              "      <td>5</td>\n",
              "      <td>內用與外帶有不同的點餐方式內用須至店內使用機台點菜、輸入桌號並付款外帶好像只需在入口處點餐即...</td>\n",
              "      <td>good</td>\n",
              "    </tr>\n",
              "    <tr>\n",
              "      <th>4</th>\n",
              "      <td>台灣TAXI市區叫車禮車包車約拍找小鄭</td>\n",
              "      <td>5</td>\n",
              "      <td>乾淨衛生，廁所很大在地下室，有免費飲料可以喝，拉麵愛好吃，麻辣豆腐不錯、肉粽不錯，目前吃過很...</td>\n",
              "      <td>good</td>\n",
              "    </tr>\n",
              "  </tbody>\n",
              "</table>\n",
              "</div>"
            ],
            "text/plain": [
              "              username  ...   tag\n",
              "0                  倪依芙  ...  good\n",
              "1                Mimi龍  ...  good\n",
              "2                  林昌逸  ...   bad\n",
              "3                  林幸蓁  ...  good\n",
              "4  台灣TAXI市區叫車禮車包車約拍找小鄭  ...  good\n",
              "\n",
              "[5 rows x 4 columns]"
            ]
          },
          "metadata": {
            "tags": []
          },
          "execution_count": 2
        }
      ]
    },
    {
      "cell_type": "code",
      "metadata": {
        "id": "FGRgdMQ7LnQv",
        "colab": {
          "base_uri": "https://localhost:8080/",
          "height": 35
        },
        "outputId": "dbe3517a-691f-44a6-c7de-cda2af1b20b6"
      },
      "source": [
        "# reconstruct df in only good, bad classes\n",
        "\n",
        "good_bad_df = google[google['tag'].isin(['good','bad'])]\n",
        "good_bad_df.shape"
      ],
      "execution_count": null,
      "outputs": [
        {
          "output_type": "execute_result",
          "data": {
            "text/plain": [
              "(440, 4)"
            ]
          },
          "metadata": {
            "tags": []
          },
          "execution_count": 3
        }
      ]
    },
    {
      "cell_type": "code",
      "metadata": {
        "id": "enZqmdM2NpMf",
        "colab": {
          "base_uri": "https://localhost:8080/",
          "height": 199
        },
        "outputId": "a9a46f9f-1963-4be2-b045-ae65203f73bd"
      },
      "source": [
        "# jieba word segmentation\n",
        "import jieba\n",
        "\n",
        "tags = good_bad_df['tag'].to_numpy()\n",
        "corpus = []\n",
        "for comment in good_bad_df['comment']:\n",
        "  corpus.append(' '.join(jieba.cut(comment)))\n",
        "\n",
        "corpus[:5]\n"
      ],
      "execution_count": null,
      "outputs": [
        {
          "output_type": "stream",
          "text": [
            "Building prefix dict from the default dictionary ...\n",
            "Loading model from cache /tmp/jieba.cache\n",
            "Loading model cost 0.785 seconds.\n",
            "Prefix dict has been built successfully.\n"
          ],
          "name": "stderr"
        },
        {
          "output_type": "execute_result",
          "data": {
            "text/plain": [
              "['起初 找 不到 入口 ， 還以 為 沒 座位 ， 但是 原來 入口 在 旁邊 樓梯 ～ 座位 區不大 ， 但是 料理 很 好吃 ～ 肉圓 的 醬 微甜 ， 口感 清爽 ～ 甜不辣 醬汁 看 起來 顏色 差不多 ， 但是 口感 是 鹹 中 有 微微 辣 ， 都 很 不錯 ！ 麻醬 麵 的 麻醬 沒有 吝色 放 ， 所以 吃 起來 麻醬 能 均 勻分 佈 在 麵 上 ， 是 吃過 的 好吃 麻醬 麵 之一 ， 挺 讚 的 喔 ！ 喜番 … 今天 遇到 一位 帥氣 有型 的 國中生 讓 座 ， 真感動 ， 現在 能 遇到 單純 有禮 的 青年 學子 ， 都 是 一種 幸運 ！',\n",
              " '聞名 已久 ， 今天 特別 來 現場 試試 ， 目前 改成 點餐 機點餐 ，   ⋯ ⋯ 更多聞名 已久 ， 今天 特別 來 現場 試試 ， 目前 改成 點餐 機點餐 ， 店家 可以 省去 點餐 、 結帳 的 人力 ， 缺點 就是 ， 剛剛點 餐時 ， 我 前面 排 了 5 個 人 ， 點餐 就 花 了 不少 時間 ， 更別 說 人 多 的 時候 會 更 久 。 店家 附免費 飲料 - 檸檬汁 ， 還不錯 ， 好喝 實在 ， 不是 隨便 泡 的 飲料 。 今天 點了 餛飩 湯 麵 ＋ 去 骨油 雞 腿 ， 餛飩 麵 份量 很夠 ， 還好 沒多點 肉圓 ， 不然 有點 吃不完 。 雞腿 也 還不錯 ， 有 嚼 勁 。 雖然 是 凌晨 來 吃 ， 店家 內用 生意 還不錯 ， 外送 單 也 常響 起 。 生意 真的 挺 好 的 。',\n",
              " '非常 生氣 服務員 的 態度 😠 服務 很 糟糕 ， 麵 都 還沒 吃 完 ， 一 起身 就 把 麵 收走 ， 擺明 趕 客人 😡 😡 😡',\n",
              " '內用 與 外帶 有 不同 的 點餐 方式 內用須 至店 內 使用 機台點 菜 、 輸入 桌號並 付款 外帶 好像 只 需 在 入口 處點餐 即可 ( 沒有 外 帶過 ， 不太 確定 )   ⋯ ⋯ 更多 內用 與 外帶 有 不同 的 點餐 方式 內用須 至店 內 使用 機台點 菜 、 輸入 桌號並 付款 外帶 好像 只 需 在 入口 處點餐 即可 ( 沒有 外 帶過 ， 不太 確定 ) 非常 推薦 麻辣 臭豆腐 ！ 有小份 與 大份 另外 ～ 臭豆腐 雖然 可以 點不辣 ， 但是 仍 有 一些 小辣 ， 若 是 非常 怕 辣 的 人 要 注意',\n",
              " '乾淨衛生 ， 廁所 很大 在 地下室 ， 有 免費 飲料 可以 喝 ， 拉 麵 愛 好吃 ， 麻辣 豆腐 不錯 、 肉 粽不錯 ， 目前 吃過 很 乾淨 的 一家 店 。 酸菜 可以 ， 辣椒 有點 辣 ， 都 是 自助式 ， 餐具 都 是 可重 複 利用 的 。']"
            ]
          },
          "metadata": {
            "tags": []
          },
          "execution_count": 4
        }
      ]
    },
    {
      "cell_type": "code",
      "metadata": {
        "id": "UQRa8872OhS8",
        "colab": {
          "base_uri": "https://localhost:8080/",
          "height": 53
        },
        "outputId": "c0aa5171-24b9-4aa6-bc52-43c8ffed266c"
      },
      "source": [
        "# build a TF-IDF matrix based on contents\n",
        "from sklearn.feature_extraction.text import TfidfVectorizer\n",
        "tfidf_vectorizer = TfidfVectorizer()\n",
        "tfidf = tfidf_vectorizer.fit_transform(corpus)\n",
        "tfidf"
      ],
      "execution_count": null,
      "outputs": [
        {
          "output_type": "execute_result",
          "data": {
            "text/plain": [
              "<440x2693 sparse matrix of type '<class 'numpy.float64'>'\n",
              "\twith 6513 stored elements in Compressed Sparse Row format>"
            ]
          },
          "metadata": {
            "tags": []
          },
          "execution_count": 5
        }
      ]
    },
    {
      "cell_type": "code",
      "metadata": {
        "id": "CXC-qOEnRFJh"
      },
      "source": [
        "indices = good_bad_df.index.values"
      ],
      "execution_count": null,
      "outputs": []
    },
    {
      "cell_type": "code",
      "metadata": {
        "id": "Y4lGNGHlT9U-",
        "colab": {
          "base_uri": "https://localhost:8080/",
          "height": 125
        },
        "outputId": "492c5473-177d-4e29-e6d6-2eaa3a66f6ca"
      },
      "source": [
        "# split data into train, test\n",
        "from sklearn.model_selection import train_test_split\n",
        "\n",
        "train_x, test_x, train_y, test_y, train_indices, test_indices = \\\n",
        "  train_test_split(tfidf, tags, indices, test_size=0.2, random_state=42)\n",
        "print(train_x.shape, test_x.shape)\n",
        "print(test_indices)\n"
      ],
      "execution_count": null,
      "outputs": [
        {
          "output_type": "stream",
          "text": [
            "(352, 2693) (88, 2693)\n",
            "[301  90 390 291 369 328 215  94 498 458 262  87 253 449 384  88 493 227\n",
            "  84 181  10 207  32 226 123 152  81 255 483  62 345 373 184 425 416  83\n",
            " 239 119  42 274 427 150 264  91 182  36 212 344  89 429 433  16 174 145\n",
            "   0  20 318 327  64 341 179 107 326 447 322 484  26 211 492 132  48 439\n",
            " 436 313 203 143 321  23  53 103 282 135 485  65 159  25  18  76]\n"
          ],
          "name": "stdout"
        }
      ]
    },
    {
      "cell_type": "code",
      "metadata": {
        "id": "EkfwhmBiVLvJ",
        "colab": {
          "base_uri": "https://localhost:8080/",
          "height": 35
        },
        "outputId": "038bce4d-d786-45f4-a241-c1c59426d485"
      },
      "source": [
        "# MultinomialNB\n",
        "from sklearn.naive_bayes import MultinomialNB\n",
        "clf1 = MultinomialNB(alpha=0.01)\n",
        "clf1.fit(train_x, train_y)\n",
        "prediction_clf1 = clf1.predict(test_x)\n",
        "print(f'acc:{clf1.score(test_x,test_y)}')"
      ],
      "execution_count": null,
      "outputs": [
        {
          "output_type": "stream",
          "text": [
            "acc:0.8181818181818182\n"
          ],
          "name": "stdout"
        }
      ]
    },
    {
      "cell_type": "code",
      "metadata": {
        "id": "DlIX_HI5w20K",
        "colab": {
          "base_uri": "https://localhost:8080/",
          "height": 35
        },
        "outputId": "469ceb58-4074-44a9-b942-5313e6db5970"
      },
      "source": [
        "print(clf1.classes_)"
      ],
      "execution_count": null,
      "outputs": [
        {
          "output_type": "stream",
          "text": [
            "['bad' 'good']\n"
          ],
          "name": "stdout"
        }
      ]
    },
    {
      "cell_type": "code",
      "metadata": {
        "id": "jR1Bl5fcx3YA",
        "colab": {
          "base_uri": "https://localhost:8080/",
          "height": 359
        },
        "outputId": "64e96fd0-df71-4475-db12-9a88cbe2a3cf"
      },
      "source": [
        "# analysis feature importance\n",
        "word_eval_list = []\n",
        "for word, bad_score, good_score in zip(tfidf_vectorizer.get_feature_names(),\n",
        "                                       clf1.feature_count_[0], \n",
        "                                       clf1.feature_count_[1]):\n",
        "  temp_dict = {}\n",
        "  temp_dict['bad_ratio'] = bad_score/(1 + good_score)\n",
        "  temp_dict['good_ratio'] = good_score/(1 + bad_score)\n",
        "  temp_dict['bad_score'] = bad_score\n",
        "  temp_dict['good_score'] = good_score\n",
        "  temp_dict['word'] = word\n",
        "  word_eval_list.append(temp_dict)\n",
        "\n",
        "word_eval_df = pd.DataFrame(word_eval_list)\n",
        "\n",
        "# 10 important words for bad class\n",
        "word_eval_df.sort_values('bad_ratio', ascending=False).head(10)"
      ],
      "execution_count": null,
      "outputs": [
        {
          "output_type": "execute_result",
          "data": {
            "text/html": [
              "<div>\n",
              "<style scoped>\n",
              "    .dataframe tbody tr th:only-of-type {\n",
              "        vertical-align: middle;\n",
              "    }\n",
              "\n",
              "    .dataframe tbody tr th {\n",
              "        vertical-align: top;\n",
              "    }\n",
              "\n",
              "    .dataframe thead th {\n",
              "        text-align: right;\n",
              "    }\n",
              "</style>\n",
              "<table border=\"1\" class=\"dataframe\">\n",
              "  <thead>\n",
              "    <tr style=\"text-align: right;\">\n",
              "      <th></th>\n",
              "      <th>bad_ratio</th>\n",
              "      <th>good_ratio</th>\n",
              "      <th>bad_score</th>\n",
              "      <th>good_score</th>\n",
              "      <th>word</th>\n",
              "    </tr>\n",
              "  </thead>\n",
              "  <tbody>\n",
              "    <tr>\n",
              "      <th>1247</th>\n",
              "      <td>3.228117</td>\n",
              "      <td>0.129321</td>\n",
              "      <td>6.258093</td>\n",
              "      <td>0.938621</td>\n",
              "      <td>態度</td>\n",
              "    </tr>\n",
              "    <tr>\n",
              "      <th>1004</th>\n",
              "      <td>2.808830</td>\n",
              "      <td>0.101876</td>\n",
              "      <td>4.335644</td>\n",
              "      <td>0.543576</td>\n",
              "      <td>客人</td>\n",
              "    </tr>\n",
              "    <tr>\n",
              "      <th>1130</th>\n",
              "      <td>2.552051</td>\n",
              "      <td>0.000000</td>\n",
              "      <td>2.552051</td>\n",
              "      <td>0.000000</td>\n",
              "      <td>店員態度</td>\n",
              "    </tr>\n",
              "    <tr>\n",
              "      <th>1439</th>\n",
              "      <td>2.548792</td>\n",
              "      <td>0.050667</td>\n",
              "      <td>3.075046</td>\n",
              "      <td>0.206472</td>\n",
              "      <td>普通</td>\n",
              "    </tr>\n",
              "    <tr>\n",
              "      <th>1924</th>\n",
              "      <td>2.343325</td>\n",
              "      <td>0.049725</td>\n",
              "      <td>2.784275</td>\n",
              "      <td>0.188173</td>\n",
              "      <td>知道</td>\n",
              "    </tr>\n",
              "    <tr>\n",
              "      <th>1974</th>\n",
              "      <td>2.227581</td>\n",
              "      <td>0.000000</td>\n",
              "      <td>2.227581</td>\n",
              "      <td>0.000000</td>\n",
              "      <td>第二次</td>\n",
              "    </tr>\n",
              "    <tr>\n",
              "      <th>293</th>\n",
              "      <td>2.202086</td>\n",
              "      <td>0.051669</td>\n",
              "      <td>2.613197</td>\n",
              "      <td>0.186692</td>\n",
              "      <td>不要</td>\n",
              "    </tr>\n",
              "    <tr>\n",
              "      <th>2483</th>\n",
              "      <td>2.158271</td>\n",
              "      <td>0.000000</td>\n",
              "      <td>2.158271</td>\n",
              "      <td>0.000000</td>\n",
              "      <td>重點</td>\n",
              "    </tr>\n",
              "    <tr>\n",
              "      <th>270</th>\n",
              "      <td>2.059802</td>\n",
              "      <td>0.155664</td>\n",
              "      <td>3.503932</td>\n",
              "      <td>0.701101</td>\n",
              "      <td>不會</td>\n",
              "    </tr>\n",
              "    <tr>\n",
              "      <th>2155</th>\n",
              "      <td>2.035631</td>\n",
              "      <td>0.000000</td>\n",
              "      <td>2.035631</td>\n",
              "      <td>0.000000</td>\n",
              "      <td>蟑螂</td>\n",
              "    </tr>\n",
              "  </tbody>\n",
              "</table>\n",
              "</div>"
            ],
            "text/plain": [
              "      bad_ratio  good_ratio  bad_score  good_score  word\n",
              "1247   3.228117    0.129321   6.258093    0.938621    態度\n",
              "1004   2.808830    0.101876   4.335644    0.543576    客人\n",
              "1130   2.552051    0.000000   2.552051    0.000000  店員態度\n",
              "1439   2.548792    0.050667   3.075046    0.206472    普通\n",
              "1924   2.343325    0.049725   2.784275    0.188173    知道\n",
              "1974   2.227581    0.000000   2.227581    0.000000   第二次\n",
              "293    2.202086    0.051669   2.613197    0.186692    不要\n",
              "2483   2.158271    0.000000   2.158271    0.000000    重點\n",
              "270    2.059802    0.155664   3.503932    0.701101    不會\n",
              "2155   2.035631    0.000000   2.035631    0.000000    蟑螂"
            ]
          },
          "metadata": {
            "tags": []
          },
          "execution_count": 10
        }
      ]
    },
    {
      "cell_type": "code",
      "metadata": {
        "id": "Ot25Byrg2H6U",
        "colab": {
          "base_uri": "https://localhost:8080/",
          "height": 359
        },
        "outputId": "e9a71317-4994-4112-f317-fabd079eb527"
      },
      "source": [
        "# 10 important words for good class\n",
        "word_eval_df.sort_values('good_ratio', ascending=False).head(10)"
      ],
      "execution_count": null,
      "outputs": [
        {
          "output_type": "execute_result",
          "data": {
            "text/html": [
              "<div>\n",
              "<style scoped>\n",
              "    .dataframe tbody tr th:only-of-type {\n",
              "        vertical-align: middle;\n",
              "    }\n",
              "\n",
              "    .dataframe tbody tr th {\n",
              "        vertical-align: top;\n",
              "    }\n",
              "\n",
              "    .dataframe thead th {\n",
              "        text-align: right;\n",
              "    }\n",
              "</style>\n",
              "<table border=\"1\" class=\"dataframe\">\n",
              "  <thead>\n",
              "    <tr style=\"text-align: right;\">\n",
              "      <th></th>\n",
              "      <th>bad_ratio</th>\n",
              "      <th>good_ratio</th>\n",
              "      <th>bad_score</th>\n",
              "      <th>good_score</th>\n",
              "      <th>word</th>\n",
              "    </tr>\n",
              "  </thead>\n",
              "  <tbody>\n",
              "    <tr>\n",
              "      <th>971</th>\n",
              "      <td>0.155759</td>\n",
              "      <td>4.432004</td>\n",
              "      <td>2.732156</td>\n",
              "      <td>16.540930</td>\n",
              "      <td>好吃</td>\n",
              "    </tr>\n",
              "    <tr>\n",
              "      <th>12</th>\n",
              "      <td>0.016871</td>\n",
              "      <td>4.281420</td>\n",
              "      <td>0.096038</td>\n",
              "      <td>4.692600</td>\n",
              "      <td>24</td>\n",
              "    </tr>\n",
              "    <tr>\n",
              "      <th>1041</th>\n",
              "      <td>0.016871</td>\n",
              "      <td>4.281420</td>\n",
              "      <td>0.096038</td>\n",
              "      <td>4.692600</td>\n",
              "      <td>小時</td>\n",
              "    </tr>\n",
              "    <tr>\n",
              "      <th>2189</th>\n",
              "      <td>0.018926</td>\n",
              "      <td>4.264247</td>\n",
              "      <td>0.108378</td>\n",
              "      <td>4.726398</td>\n",
              "      <td>親切</td>\n",
              "    </tr>\n",
              "    <tr>\n",
              "      <th>973</th>\n",
              "      <td>0.049346</td>\n",
              "      <td>4.072805</td>\n",
              "      <td>0.313289</td>\n",
              "      <td>5.348771</td>\n",
              "      <td>好喝</td>\n",
              "    </tr>\n",
              "    <tr>\n",
              "      <th>2050</th>\n",
              "      <td>0.067243</td>\n",
              "      <td>3.478154</td>\n",
              "      <td>0.393055</td>\n",
              "      <td>4.845260</td>\n",
              "      <td>美味</td>\n",
              "    </tr>\n",
              "    <tr>\n",
              "      <th>2053</th>\n",
              "      <td>0.026732</td>\n",
              "      <td>3.343670</td>\n",
              "      <td>0.127515</td>\n",
              "      <td>3.770038</td>\n",
              "      <td>美食</td>\n",
              "    </tr>\n",
              "    <tr>\n",
              "      <th>2606</th>\n",
              "      <td>0.073043</td>\n",
              "      <td>3.150396</td>\n",
              "      <td>0.393770</td>\n",
              "      <td>4.390926</td>\n",
              "      <td>飲料</td>\n",
              "    </tr>\n",
              "    <tr>\n",
              "      <th>340</th>\n",
              "      <td>0.085690</td>\n",
              "      <td>3.121750</td>\n",
              "      <td>0.482174</td>\n",
              "      <td>4.626977</td>\n",
              "      <td>乾意</td>\n",
              "    </tr>\n",
              "    <tr>\n",
              "      <th>302</th>\n",
              "      <td>0.115085</td>\n",
              "      <td>3.112518</td>\n",
              "      <td>0.737442</td>\n",
              "      <td>5.407819</td>\n",
              "      <td>不錯</td>\n",
              "    </tr>\n",
              "  </tbody>\n",
              "</table>\n",
              "</div>"
            ],
            "text/plain": [
              "      bad_ratio  good_ratio  bad_score  good_score word\n",
              "971    0.155759    4.432004   2.732156   16.540930   好吃\n",
              "12     0.016871    4.281420   0.096038    4.692600   24\n",
              "1041   0.016871    4.281420   0.096038    4.692600   小時\n",
              "2189   0.018926    4.264247   0.108378    4.726398   親切\n",
              "973    0.049346    4.072805   0.313289    5.348771   好喝\n",
              "2050   0.067243    3.478154   0.393055    4.845260   美味\n",
              "2053   0.026732    3.343670   0.127515    3.770038   美食\n",
              "2606   0.073043    3.150396   0.393770    4.390926   飲料\n",
              "340    0.085690    3.121750   0.482174    4.626977   乾意\n",
              "302    0.115085    3.112518   0.737442    5.407819   不錯"
            ]
          },
          "metadata": {
            "tags": []
          },
          "execution_count": 11
        }
      ]
    },
    {
      "cell_type": "code",
      "metadata": {
        "id": "lyILv4zYYRFM",
        "colab": {
          "base_uri": "https://localhost:8080/",
          "height": 35
        },
        "outputId": "b040b5a1-e3ab-4c09-bb71-0c8128f19173"
      },
      "source": [
        "# SVM baseline\n",
        "from sklearn.svm import SVC\n",
        "clf2 = SVC()\n",
        "clf2.fit(train_x, train_y)\n",
        "prediction_clf2 = clf2.predict(test_x)\n",
        "print(f'acc:{clf2.score(test_x,test_y)}')"
      ],
      "execution_count": null,
      "outputs": [
        {
          "output_type": "stream",
          "text": [
            "acc:0.9204545454545454\n"
          ],
          "name": "stdout"
        }
      ]
    },
    {
      "cell_type": "code",
      "metadata": {
        "id": "dXBDKfMfbCfn",
        "colab": {
          "base_uri": "https://localhost:8080/",
          "height": 71
        },
        "outputId": "b8f275c4-ef26-4112-898b-5e5c5a8cf617"
      },
      "source": [
        "# implement grid search\n",
        "from sklearn.model_selection import GridSearchCV \n",
        "  \n",
        "param_grid = [\n",
        "  {'C': [1, 10, 100, 1000], 'kernel': ['linear']},\n",
        "  {'C': [1, 10, 100, 1000], 'gamma': [0.001, 0.0001, 0.0001], 'kernel': ['rbf']},\n",
        " ]\n",
        "  \n",
        "grid = GridSearchCV(SVC(), param_grid) \n",
        "grid.fit(train_x, train_y) \n",
        "\n",
        "print(\"Test set score:{:.2f}\".format(grid.score(test_x,test_y))) \n",
        "print(\"Best parameters:{}\".format(grid.best_params_)) \n",
        "print(\"Best score on train set:{:.2f}\".format(grid.best_score_))"
      ],
      "execution_count": null,
      "outputs": [
        {
          "output_type": "stream",
          "text": [
            "Test set score:0.88\n",
            "Best parameters:{'C': 1, 'kernel': 'linear'}\n",
            "Best score on train set:0.86\n"
          ],
          "name": "stdout"
        }
      ]
    },
    {
      "cell_type": "code",
      "metadata": {
        "id": "YptdXQSXcI_U",
        "colab": {
          "base_uri": "https://localhost:8080/",
          "height": 35
        },
        "outputId": "64792e27-46c5-47b2-ce62-32dd3866afde"
      },
      "source": [
        "# after fine tune, use default SVM\n",
        "clf2 = SVC()\n",
        "clf2.fit(train_x, train_y)\n",
        "prediction_clf2 = clf2.predict(test_x)\n",
        "print(f'acc:{clf2.score(test_x,test_y)}')\n"
      ],
      "execution_count": null,
      "outputs": [
        {
          "output_type": "stream",
          "text": [
            "acc:0.9204545454545454\n"
          ],
          "name": "stdout"
        }
      ]
    },
    {
      "cell_type": "code",
      "metadata": {
        "id": "OmtZV3xfer6i",
        "colab": {
          "base_uri": "https://localhost:8080/",
          "height": 251
        },
        "outputId": "6ee08be9-6a6f-4878-9181-89cc3aa4aa25"
      },
      "source": [
        "# compute acc and confusion matrix\n",
        "from sklearn.metrics import accuracy_score, confusion_matrix\n",
        "\n",
        "clf1_acc = accuracy_score(test_y, prediction_clf1)\n",
        "clf1_cm = confusion_matrix(test_y, prediction_clf1, labels=[\"good\", \"bad\"])\n",
        "print('MultinomialNB')\n",
        "print('acc: ', clf1_acc)\n",
        "print('confusion_matrix')\n",
        "print('good', 'bad')\n",
        "print(clf1_cm)\n",
        "print('==========================')\n",
        "\n",
        "clf2_acc = accuracy_score(test_y, prediction_clf2)\n",
        "clf2_cm = confusion_matrix(test_y, prediction_clf2, labels=[\"good\", \"bad\"])\n",
        "print('SVM')\n",
        "print('acc: ', clf2_acc)\n",
        "print('confusion_matrix')\n",
        "print('good', 'bad')\n",
        "print(clf2_cm)"
      ],
      "execution_count": null,
      "outputs": [
        {
          "output_type": "stream",
          "text": [
            "MultinomialNB\n",
            "acc:  0.8181818181818182\n",
            "confusion_matrix\n",
            "good bad\n",
            "[[42  6]\n",
            " [10 30]]\n",
            "==========================\n",
            "SVM\n",
            "acc:  0.9204545454545454\n",
            "confusion_matrix\n",
            "good bad\n",
            "[[45  3]\n",
            " [ 4 36]]\n"
          ],
          "name": "stdout"
        }
      ]
    },
    {
      "cell_type": "code",
      "metadata": {
        "id": "qg1uj65i3Nk5",
        "colab": {
          "base_uri": "https://localhost:8080/",
          "height": 573
        },
        "outputId": "a3214ae1-e15c-48cd-8850-0fd12a1ffc59"
      },
      "source": [
        "import matplotlib.pyplot as plt\n",
        "from sklearn.metrics import plot_confusion_matrix\n",
        "\n",
        "nb_cm = plot_confusion_matrix(clf1, test_x, test_y, labels=[\"good\", \"bad\"])\n",
        "nb_cm.ax_.set_title('MultinomialNB')\n",
        "\n",
        "svm_cm = plot_confusion_matrix(clf2, test_x, test_y, labels=[\"good\", \"bad\"])\n",
        "svm_cm.ax_.set_title('SVM')\n",
        "\n",
        "plt.show()\n",
        "plt.close()"
      ],
      "execution_count": null,
      "outputs": [
        {
          "output_type": "display_data",
          "data": {
            "image/png": "[encoded data removed]",
            "text/plain": [
              "<Figure size 432x288 with 2 Axes>"
            ]
          },
          "metadata": {
            "tags": [],
            "needs_background": "light"
          }
        },
        {
          "output_type": "display_data",
          "data": {
            "image/png": "[encoded data removed]",
            "text/plain": [
              "<Figure size 432x288 with 2 Axes>"
            ]
          },
          "metadata": {
            "tags": [],
            "needs_background": "light"
          }
        }
      ]
    },
    {
      "cell_type": "code",
      "metadata": {
        "id": "E-FoZvRw2VHi",
        "colab": {
          "base_uri": "https://localhost:8080/",
          "height": 163
        },
        "outputId": "323df12e-8337-4fb6-d24d-8026d06689ae"
      },
      "source": [
        "# analysis errors based on confusion matrix of SVM\n",
        "\n",
        "error_indices = test_indices[prediction_clf2 != test_y]\n",
        "for i in error_indices:\n",
        "  row = google.iloc[i]\n",
        "  if row['tag'] == 'good':\n",
        "    predict = 'bad'\n",
        "  else:\n",
        "    predict = 'good'\n",
        "  print(f\"predict:{predict} | tag: {row['tag']} | {row['comment']}\")"
      ],
      "execution_count": null,
      "outputs": [
        {
          "output_type": "stream",
          "text": [
            "predict:good | tag: bad | 每一段時間會來吃.但是東西品質變的不好了！肉圓的香菜都是爛的［醬汁是冷的］竹筍貢丸湯裡面的竹筍是焦了 ⋯⋯更多每一段時間會來吃.但是東西品質變的不好了！肉圓的香菜都是爛的［醬汁是冷的］竹筍貢丸湯裡面的竹筍是焦了員工素質教育有問題多半是外籍人士現場還可以聽到保險套素質變差了！以後要考慮要不要再來了！\n",
            "predict:bad | tag: good | 可惜了地點優越，應該衛生要做好，以照顧更多大眾，筷子有味道，湯喝下肚也有種味道。。最近有進步了，改成4顆星\n",
            "predict:good | tag: bad | 自動點餐機得等一輩子。\n",
            "predict:good | tag: bad | 不給白飯單買，不然菜單不要寫，食物超激鹹，只有24小時營業是優點，其實7-11比較好吃\n",
            "predict:bad | tag: good | 提供給深夜下班的人一個能飽餐一頓的地方\n",
            "predict:bad | tag: good | 招牌意麵敲好粗！強！But... ⋯⋯更多招牌意麵敲好粗！強！But... 肉圓... 你怎麼了... 怎麼那麼大一顆都是粉... 料哪去了？？？（敲碗ing...）\n",
            "predict:good | tag: bad | 一碗鴨血臭豆腐裡面就有兩隻蟑螂 衛生品質堪憂 不會再去了\n"
          ],
          "name": "stdout"
        }
      ]
    },
    {
      "cell_type": "code",
      "metadata": {
        "id": "P8Hdgq_kXOY6",
        "colab": {
          "base_uri": "https://localhost:8080/",
          "height": 35
        },
        "outputId": "75025c43-7c48-4fec-b32c-66af41bec51f"
      },
      "source": [
        "s = '一碗鴨血臭豆腐裡面就有兩隻蟑螂 衛生品質堪憂 不會再去了'\n",
        "s = [' '.join(jieba.cut(s))]\n",
        "vec_s = tfidf_vectorizer.transform(s)\n",
        "clf2.predict(vec_s)"
      ],
      "execution_count": null,
      "outputs": [
        {
          "output_type": "execute_result",
          "data": {
            "text/plain": [
              "array(['good'], dtype=object)"
            ]
          },
          "metadata": {
            "tags": []
          },
          "execution_count": 18
        }
      ]
    }
  ]
}