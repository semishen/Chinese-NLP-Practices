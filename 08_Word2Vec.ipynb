{
  "nbformat": 4,
  "nbformat_minor": 0,
  "metadata": {
    "colab": {
      "name": "08_Word2Vec.ipynb",
      "provenance": [],
      "collapsed_sections": [],
      "authorship_tag": "ABX9TyPn7X16Cc+CDiDA3OE5ccYS",
      "include_colab_link": true
    },
    "kernelspec": {
      "name": "python3",
      "display_name": "Python 3"
    }
  },
  "cells": [
    {
      "cell_type": "markdown",
      "metadata": {
        "id": "view-in-github",
        "colab_type": "text"
      },
      "source": [
        "<a href=\"https://colab.research.google.com/github/semishen/Chinese-NLP-Practices/blob/main/08_Word2Vec.ipynb\" target=\"_parent\"><img src=\"https://colab.research.google.com/assets/colab-badge.svg\" alt=\"Open In Colab\"/></a>"
      ]
    },
    {
      "cell_type": "code",
      "metadata": {
        "id": "r5bq7dV4KwF5",
        "colab": {
          "base_uri": "https://localhost:8080/",
          "height": 222
        },
        "outputId": "193b66a9-97f4-47cc-eb61-b9586b068588"
      },
      "source": [
        "# load data\n",
        "import pandas as pd\n",
        "import numpy as np\n",
        "\n",
        "url = 'https://raw.githubusercontent.com/ywchiu/tibame_tm/master/data/google_comments.xlsx'\n",
        "google = pd.read_excel(url, index_col=0)\n",
        "print(google.shape)\n",
        "google.head()"
      ],
      "execution_count": null,
      "outputs": [
        {
          "output_type": "stream",
          "text": [
            "(500, 3)\n"
          ],
          "name": "stdout"
        },
        {
          "output_type": "execute_result",
          "data": {
            "text/html": [
              "<div>\n",
              "<style scoped>\n",
              "    .dataframe tbody tr th:only-of-type {\n",
              "        vertical-align: middle;\n",
              "    }\n",
              "\n",
              "    .dataframe tbody tr th {\n",
              "        vertical-align: top;\n",
              "    }\n",
              "\n",
              "    .dataframe thead th {\n",
              "        text-align: right;\n",
              "    }\n",
              "</style>\n",
              "<table border=\"1\" class=\"dataframe\">\n",
              "  <thead>\n",
              "    <tr style=\"text-align: right;\">\n",
              "      <th></th>\n",
              "      <th>username</th>\n",
              "      <th>score</th>\n",
              "      <th>comment</th>\n",
              "    </tr>\n",
              "  </thead>\n",
              "  <tbody>\n",
              "    <tr>\n",
              "      <th>0</th>\n",
              "      <td>倪依芙</td>\n",
              "      <td>5</td>\n",
              "      <td>起初找不到入口，還以為沒座位，但是原來入口在旁邊樓梯～座位區不大，但是料理很好吃～肉圓的醬微...</td>\n",
              "    </tr>\n",
              "    <tr>\n",
              "      <th>1</th>\n",
              "      <td>Mimi龍</td>\n",
              "      <td>4</td>\n",
              "      <td>聞名已久，今天特別來現場試試，目前改成點餐機點餐， ⋯⋯更多聞名已久，今天特別來現場試試，目...</td>\n",
              "    </tr>\n",
              "    <tr>\n",
              "      <th>2</th>\n",
              "      <td>林昌逸</td>\n",
              "      <td>1</td>\n",
              "      <td>非常生氣服務員的態度😠服務很糟糕，麵都還沒吃完，一起身就把麵收走，擺明趕客人😡😡😡</td>\n",
              "    </tr>\n",
              "    <tr>\n",
              "      <th>3</th>\n",
              "      <td>林幸蓁</td>\n",
              "      <td>5</td>\n",
              "      <td>內用與外帶有不同的點餐方式內用須至店內使用機台點菜、輸入桌號並付款外帶好像只需在入口處點餐即...</td>\n",
              "    </tr>\n",
              "    <tr>\n",
              "      <th>4</th>\n",
              "      <td>台灣TAXI市區叫車禮車包車約拍找小鄭</td>\n",
              "      <td>5</td>\n",
              "      <td>乾淨衛生，廁所很大在地下室，有免費飲料可以喝，拉麵愛好吃，麻辣豆腐不錯、肉粽不錯，目前吃過很...</td>\n",
              "    </tr>\n",
              "  </tbody>\n",
              "</table>\n",
              "</div>"
            ],
            "text/plain": [
              "              username  ...                                            comment\n",
              "0                  倪依芙  ...  起初找不到入口，還以為沒座位，但是原來入口在旁邊樓梯～座位區不大，但是料理很好吃～肉圓的醬微...\n",
              "1                Mimi龍  ...  聞名已久，今天特別來現場試試，目前改成點餐機點餐， ⋯⋯更多聞名已久，今天特別來現場試試，目...\n",
              "2                  林昌逸  ...          非常生氣服務員的態度😠服務很糟糕，麵都還沒吃完，一起身就把麵收走，擺明趕客人😡😡😡\n",
              "3                  林幸蓁  ...  內用與外帶有不同的點餐方式內用須至店內使用機台點菜、輸入桌號並付款外帶好像只需在入口處點餐即...\n",
              "4  台灣TAXI市區叫車禮車包車約拍找小鄭  ...  乾淨衛生，廁所很大在地下室，有免費飲料可以喝，拉麵愛好吃，麻辣豆腐不錯、肉粽不錯，目前吃過很...\n",
              "\n",
              "[5 rows x 3 columns]"
            ]
          },
          "metadata": {
            "tags": []
          },
          "execution_count": 4
        }
      ]
    },
    {
      "cell_type": "code",
      "metadata": {
        "id": "nY6iu70qLoJA",
        "colab": {
          "base_uri": "https://localhost:8080/",
          "height": 255
        },
        "outputId": "857435f3-e2c9-4962-b3b3-ba4df71315d0"
      },
      "source": [
        "# convert score to status\n",
        "def score_to_status(x):\n",
        "  assert isinstance(x, int), 'x is not an int'\n",
        "  assert (x >= 0) and (x <= 5), 'x is out of range 0-5'\n",
        "\n",
        "  \n",
        "  if x > 3:\n",
        "    return 'good'\n",
        "  elif x == 3:\n",
        "    return 'soso'\n",
        "  else :\n",
        "    return 'bad'\n",
        "\n",
        "\n",
        "google['status'] = google['score'].map(score_to_status)\n",
        "google.head()"
      ],
      "execution_count": null,
      "outputs": [
        {
          "output_type": "execute_result",
          "data": {
            "text/html": [
              "<div>\n",
              "<style scoped>\n",
              "    .dataframe tbody tr th:only-of-type {\n",
              "        vertical-align: middle;\n",
              "    }\n",
              "\n",
              "    .dataframe tbody tr th {\n",
              "        vertical-align: top;\n",
              "    }\n",
              "\n",
              "    .dataframe thead th {\n",
              "        text-align: right;\n",
              "    }\n",
              "</style>\n",
              "<table border=\"1\" class=\"dataframe\">\n",
              "  <thead>\n",
              "    <tr style=\"text-align: right;\">\n",
              "      <th></th>\n",
              "      <th>username</th>\n",
              "      <th>score</th>\n",
              "      <th>comment</th>\n",
              "      <th>status</th>\n",
              "    </tr>\n",
              "  </thead>\n",
              "  <tbody>\n",
              "    <tr>\n",
              "      <th>0</th>\n",
              "      <td>倪依芙</td>\n",
              "      <td>5</td>\n",
              "      <td>起初找不到入口，還以為沒座位，但是原來入口在旁邊樓梯～座位區不大，但是料理很好吃～肉圓的醬微...</td>\n",
              "      <td>good</td>\n",
              "    </tr>\n",
              "    <tr>\n",
              "      <th>1</th>\n",
              "      <td>Mimi龍</td>\n",
              "      <td>4</td>\n",
              "      <td>聞名已久，今天特別來現場試試，目前改成點餐機點餐， ⋯⋯更多聞名已久，今天特別來現場試試，目...</td>\n",
              "      <td>good</td>\n",
              "    </tr>\n",
              "    <tr>\n",
              "      <th>2</th>\n",
              "      <td>林昌逸</td>\n",
              "      <td>1</td>\n",
              "      <td>非常生氣服務員的態度😠服務很糟糕，麵都還沒吃完，一起身就把麵收走，擺明趕客人😡😡😡</td>\n",
              "      <td>bad</td>\n",
              "    </tr>\n",
              "    <tr>\n",
              "      <th>3</th>\n",
              "      <td>林幸蓁</td>\n",
              "      <td>5</td>\n",
              "      <td>內用與外帶有不同的點餐方式內用須至店內使用機台點菜、輸入桌號並付款外帶好像只需在入口處點餐即...</td>\n",
              "      <td>good</td>\n",
              "    </tr>\n",
              "    <tr>\n",
              "      <th>4</th>\n",
              "      <td>台灣TAXI市區叫車禮車包車約拍找小鄭</td>\n",
              "      <td>5</td>\n",
              "      <td>乾淨衛生，廁所很大在地下室，有免費飲料可以喝，拉麵愛好吃，麻辣豆腐不錯、肉粽不錯，目前吃過很...</td>\n",
              "      <td>good</td>\n",
              "    </tr>\n",
              "  </tbody>\n",
              "</table>\n",
              "</div>"
            ],
            "text/plain": [
              "              username  ...  status\n",
              "0                  倪依芙  ...    good\n",
              "1                Mimi龍  ...    good\n",
              "2                  林昌逸  ...     bad\n",
              "3                  林幸蓁  ...    good\n",
              "4  台灣TAXI市區叫車禮車包車約拍找小鄭  ...    good\n",
              "\n",
              "[5 rows x 4 columns]"
            ]
          },
          "metadata": {
            "tags": []
          },
          "execution_count": 16
        }
      ]
    },
    {
      "cell_type": "code",
      "metadata": {
        "id": "P1zmHx7EfymI",
        "colab": {
          "base_uri": "https://localhost:8080/",
          "height": 89
        },
        "outputId": "2aed69f8-5c9e-4deb-f06c-f3974b972943"
      },
      "source": [
        "google['status'].value_counts()"
      ],
      "execution_count": null,
      "outputs": [
        {
          "output_type": "execute_result",
          "data": {
            "text/plain": [
              "good    239\n",
              "bad     201\n",
              "soso     60\n",
              "Name: status, dtype: int64"
            ]
          },
          "metadata": {
            "tags": []
          },
          "execution_count": 51
        }
      ]
    },
    {
      "cell_type": "code",
      "metadata": {
        "id": "N8iEgiCQjWMJ",
        "colab": {
          "base_uri": "https://localhost:8080/",
          "height": 35
        },
        "outputId": "a35ac792-65a2-451f-861b-9a98c5d93b41"
      },
      "source": [
        "google_good_bad = google[google['status'].isin(['good','bad'])]\n",
        "google_good_bad.shape"
      ],
      "execution_count": null,
      "outputs": [
        {
          "output_type": "execute_result",
          "data": {
            "text/plain": [
              "(440, 4)"
            ]
          },
          "metadata": {
            "tags": []
          },
          "execution_count": 84
        }
      ]
    },
    {
      "cell_type": "code",
      "metadata": {
        "id": "ovXRd0YFOPcm"
      },
      "source": [
        "# word segmentation and build a corpus\n",
        "import jieba\n",
        "\n",
        "corpus = []\n",
        "\n",
        "for row in google_good_bad['comment']:\n",
        "  corpus.append(list(jieba.cut(row))) # convert to word list for Gensim\n",
        "# corpus[:5]\n"
      ],
      "execution_count": null,
      "outputs": []
    },
    {
      "cell_type": "code",
      "metadata": {
        "id": "Qfx5Y_LqPQAc"
      },
      "source": [
        "# build a word2vec model \n",
        "from gensim.models import word2vec\n",
        "\n",
        "# params\n",
        "seed = 42\n",
        "sg = 0\n",
        "window_size = 10\n",
        "vector_dim = 500\n",
        "min_count = 1\n",
        "workers = -1\n",
        "epochs = 1000\n",
        "sample = 1e-5 \n",
        "\n",
        "model = word2vec.Word2Vec(\n",
        "  corpus,\n",
        "  min_count = min_count,\n",
        "  size = vector_dim,\n",
        "  workers=workers,\n",
        "  iter=epochs,\n",
        "  window=window_size,\n",
        "  sg=sg,\n",
        "  seed=seed,\n",
        "  sample = sample\n",
        ")"
      ],
      "execution_count": null,
      "outputs": []
    },
    {
      "cell_type": "code",
      "metadata": {
        "id": "_nuetuRNQxnc",
        "colab": {
          "base_uri": "https://localhost:8080/",
          "height": 35
        },
        "outputId": "10d34ace-8c98-47e5-88f4-d3a2351dce09"
      },
      "source": [
        "# check vocabulary of model\n",
        "# for item in model.wv.vocab:\n",
        "#     print(item)\n",
        "len(model.wv.vocab)"
      ],
      "execution_count": null,
      "outputs": [
        {
          "output_type": "execute_result",
          "data": {
            "text/plain": [
              "3321"
            ]
          },
          "metadata": {
            "tags": []
          },
          "execution_count": 87
        }
      ]
    },
    {
      "cell_type": "code",
      "metadata": {
        "id": "zEoamUEhX1Se",
        "colab": {
          "base_uri": "https://localhost:8080/",
          "height": 35
        },
        "outputId": "ca156b17-acb2-44f2-a88a-435580f14443"
      },
      "source": [
        "# get wordvec of selected word\n",
        "wordvec = model.wv.get_vector('好吃')\n",
        "wordvec.shape"
      ],
      "execution_count": null,
      "outputs": [
        {
          "output_type": "execute_result",
          "data": {
            "text/plain": [
              "(500,)"
            ]
          },
          "metadata": {
            "tags": []
          },
          "execution_count": 88
        }
      ]
    },
    {
      "cell_type": "code",
      "metadata": {
        "id": "jRU57vLISu35",
        "colab": {
          "base_uri": "https://localhost:8080/",
          "height": 289
        },
        "outputId": "7e427743-93f9-4ed7-a9e1-e3aa667c97fc"
      },
      "source": [
        "# check simularity of selected word\n",
        "for item in model.most_similar('好吃'):\n",
        "    print(item)"
      ],
      "execution_count": null,
      "outputs": [
        {
          "output_type": "stream",
          "text": [
            "('冒出', 0.15061572194099426)\n",
            "('少見', 0.14769664406776428)\n",
            "('居然', 0.1376318782567978)\n",
            "('髒', 0.1347464770078659)\n",
            "('盛裝', 0.13122522830963135)\n",
            "('無法', 0.13087119162082672)\n",
            "('不建議', 0.12777474522590637)\n",
            "('愣住', 0.12751369178295135)\n",
            "('社會', 0.12421494722366333)\n",
            "('粒粒', 0.12154917418956757)\n"
          ],
          "name": "stdout"
        },
        {
          "output_type": "stream",
          "text": [
            "/usr/local/lib/python3.6/dist-packages/ipykernel_launcher.py:2: DeprecationWarning: Call to deprecated `most_similar` (Method will be removed in 4.0.0, use self.wv.most_similar() instead).\n",
            "  \n",
            "/usr/local/lib/python3.6/dist-packages/gensim/matutils.py:737: FutureWarning: Conversion of the second argument of issubdtype from `int` to `np.signedinteger` is deprecated. In future, it will be treated as `np.int64 == np.dtype(int).type`.\n",
            "  if np.issubdtype(vec.dtype, np.int):\n"
          ],
          "name": "stderr"
        }
      ]
    },
    {
      "cell_type": "code",
      "metadata": {
        "id": "XPDOJmJ4ZthP",
        "colab": {
          "base_uri": "https://localhost:8080/",
          "height": 109
        },
        "outputId": "412f0524-2889-499d-98b7-9aa08df4c87c"
      },
      "source": [
        "# sentence to vector in good, bad\n",
        "vecs = []\n",
        "tags = []\n",
        "for tag, s in zip(google_good_bad['status'], corpus):\n",
        "  vec = np.zeros(vector_dim)\n",
        "  cnt = 0\n",
        "  for w in s:\n",
        "    if w in model:\n",
        "      vec += model.wv.get_vector(w)\n",
        "      cnt += 1\n",
        "  if cnt > 0:\n",
        "    vecs.append(vec / cnt) # use average to represent sentence\n",
        "    tags.append(tag)\n",
        "\n",
        "# sentence vector\n",
        "x = np.array(vecs)\n",
        "print(x.shape)\n",
        "\n",
        "# target\n",
        "y = np.array(tags)\n",
        "print(y.shape)"
      ],
      "execution_count": null,
      "outputs": [
        {
          "output_type": "stream",
          "text": [
            "(440, 500)\n",
            "(440,)\n"
          ],
          "name": "stdout"
        },
        {
          "output_type": "stream",
          "text": [
            "/usr/local/lib/python3.6/dist-packages/ipykernel_launcher.py:8: DeprecationWarning: Call to deprecated `__contains__` (Method will be removed in 4.0.0, use self.wv.__contains__() instead).\n",
            "  \n"
          ],
          "name": "stderr"
        }
      ]
    },
    {
      "cell_type": "code",
      "metadata": {
        "id": "HS1KbZssch1l",
        "colab": {
          "base_uri": "https://localhost:8080/",
          "height": 53
        },
        "outputId": "699b3f17-4c25-4759-c804-03a6f01aa2e7"
      },
      "source": [
        "# split data in train, test\n",
        "from sklearn.model_selection import train_test_split\n",
        "train_x, test_x, train_y, test_y = train_test_split(x, y, test_size = 0.2, random_state = 42)\n",
        "print(train_x.shape)\n",
        "print(test_x.shape)"
      ],
      "execution_count": null,
      "outputs": [
        {
          "output_type": "stream",
          "text": [
            "(352, 500)\n",
            "(88, 500)\n"
          ],
          "name": "stdout"
        }
      ]
    },
    {
      "cell_type": "code",
      "metadata": {
        "id": "ZGbB7i1Fc74O"
      },
      "source": [
        "# SVM\n",
        "from sklearn.svm import SVC\n",
        "clf = SVC()\n",
        "clf.fit(train_x, train_y)\n",
        "pred_y = clf.predict(test_x)"
      ],
      "execution_count": null,
      "outputs": []
    },
    {
      "cell_type": "code",
      "metadata": {
        "id": "aainsI5md8lF",
        "colab": {
          "base_uri": "https://localhost:8080/",
          "height": 35
        },
        "outputId": "c85984d1-ac67-4dde-c93d-95fd9322cf22"
      },
      "source": [
        "# model evaluation\n",
        "from sklearn.metrics import accuracy_score, confusion_matrix\n",
        "accuracy_score(test_y,pred_y)"
      ],
      "execution_count": null,
      "outputs": [
        {
          "output_type": "execute_result",
          "data": {
            "text/plain": [
              "0.8295454545454546"
            ]
          },
          "metadata": {
            "tags": []
          },
          "execution_count": 97
        }
      ]
    },
    {
      "cell_type": "code",
      "metadata": {
        "id": "asF0XC1-fQbH",
        "colab": {
          "base_uri": "https://localhost:8080/",
          "height": 71
        },
        "outputId": "809ae4c5-9330-4a3e-be26-9cdeb93b095b"
      },
      "source": [
        "cm = confusion_matrix(test_y,pred_y, labels=['good','bad'])\n",
        "print('good','bad')\n",
        "print(cm)"
      ],
      "execution_count": null,
      "outputs": [
        {
          "output_type": "stream",
          "text": [
            "good bad\n",
            "[[39  9]\n",
            " [ 6 34]]\n"
          ],
          "name": "stdout"
        }
      ]
    }
  ]
}